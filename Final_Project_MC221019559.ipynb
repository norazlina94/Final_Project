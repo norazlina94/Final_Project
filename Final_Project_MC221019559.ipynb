{
 "cells": [
  {
   "cell_type": "markdown",
   "id": "959c0d02",
   "metadata": {},
   "source": [
    "# Part 1 : Read and explore data\n",
    "1. Import pandas library\n",
    "2. Read the data from sales_data_na.csv\n",
    "3. Print the shape"
   ]
  },
  {
   "cell_type": "code",
   "execution_count": 1,
   "id": "2dabbd7b",
   "metadata": {
    "scrolled": true
   },
   "outputs": [
    {
     "name": "stdout",
     "output_type": "stream",
     "text": [
      "(113037, 18)\n"
     ]
    },
    {
     "data": {
      "text/html": [
       "<div>\n",
       "<style scoped>\n",
       "    .dataframe tbody tr th:only-of-type {\n",
       "        vertical-align: middle;\n",
       "    }\n",
       "\n",
       "    .dataframe tbody tr th {\n",
       "        vertical-align: top;\n",
       "    }\n",
       "\n",
       "    .dataframe thead th {\n",
       "        text-align: right;\n",
       "    }\n",
       "</style>\n",
       "<table border=\"1\" class=\"dataframe\">\n",
       "  <thead>\n",
       "    <tr style=\"text-align: right;\">\n",
       "      <th></th>\n",
       "      <th>Date</th>\n",
       "      <th>Day</th>\n",
       "      <th>Month</th>\n",
       "      <th>Year</th>\n",
       "      <th>Customer_Age</th>\n",
       "      <th>Age_Group</th>\n",
       "      <th>Customer_Gender</th>\n",
       "      <th>Country</th>\n",
       "      <th>State</th>\n",
       "      <th>Product_Category</th>\n",
       "      <th>Sub_Category</th>\n",
       "      <th>Product</th>\n",
       "      <th>Order_Quantity</th>\n",
       "      <th>Unit_Cost</th>\n",
       "      <th>Unit_Price</th>\n",
       "      <th>Profit</th>\n",
       "      <th>Cost</th>\n",
       "      <th>Revenue</th>\n",
       "    </tr>\n",
       "  </thead>\n",
       "  <tbody>\n",
       "    <tr>\n",
       "      <th>0</th>\n",
       "      <td>11/26/2013</td>\n",
       "      <td>26</td>\n",
       "      <td>November</td>\n",
       "      <td>2013</td>\n",
       "      <td>19.0</td>\n",
       "      <td>Youth (&lt;25)</td>\n",
       "      <td>M</td>\n",
       "      <td>Canada</td>\n",
       "      <td>British Columbia</td>\n",
       "      <td>Accessories</td>\n",
       "      <td>Bike Racks</td>\n",
       "      <td>NaN</td>\n",
       "      <td>8</td>\n",
       "      <td>45.0</td>\n",
       "      <td>120.0</td>\n",
       "      <td>590.0</td>\n",
       "      <td>NaN</td>\n",
       "      <td>950.0</td>\n",
       "    </tr>\n",
       "    <tr>\n",
       "      <th>1</th>\n",
       "      <td>11/26/2015</td>\n",
       "      <td>26</td>\n",
       "      <td>NaN</td>\n",
       "      <td>2015</td>\n",
       "      <td>19.0</td>\n",
       "      <td>NaN</td>\n",
       "      <td>M</td>\n",
       "      <td>Canada</td>\n",
       "      <td>British Columbia</td>\n",
       "      <td>Accessories</td>\n",
       "      <td>Bike Racks</td>\n",
       "      <td>Hitch Rack - 4-Bike</td>\n",
       "      <td>8</td>\n",
       "      <td>45.0</td>\n",
       "      <td>NaN</td>\n",
       "      <td>590.0</td>\n",
       "      <td>360.0</td>\n",
       "      <td>950.0</td>\n",
       "    </tr>\n",
       "    <tr>\n",
       "      <th>2</th>\n",
       "      <td>3/23/2014</td>\n",
       "      <td>23</td>\n",
       "      <td>March</td>\n",
       "      <td>2014</td>\n",
       "      <td>NaN</td>\n",
       "      <td>Adults (35-64)</td>\n",
       "      <td>M</td>\n",
       "      <td>Australia</td>\n",
       "      <td>NaN</td>\n",
       "      <td>Accessories</td>\n",
       "      <td>Bike Racks</td>\n",
       "      <td>Hitch Rack - 4-Bike</td>\n",
       "      <td>23</td>\n",
       "      <td>45.0</td>\n",
       "      <td>120.0</td>\n",
       "      <td>1366.0</td>\n",
       "      <td>1035.0</td>\n",
       "      <td>NaN</td>\n",
       "    </tr>\n",
       "    <tr>\n",
       "      <th>3</th>\n",
       "      <td>3/23/2016</td>\n",
       "      <td>23</td>\n",
       "      <td>March</td>\n",
       "      <td>2016</td>\n",
       "      <td>49.0</td>\n",
       "      <td>Adults (35-64)</td>\n",
       "      <td>M</td>\n",
       "      <td>Australia</td>\n",
       "      <td>New South Wales</td>\n",
       "      <td>Accessories</td>\n",
       "      <td>Bike Racks</td>\n",
       "      <td>Hitch Rack - 4-Bike</td>\n",
       "      <td>20</td>\n",
       "      <td>45.0</td>\n",
       "      <td>120.0</td>\n",
       "      <td>1188.0</td>\n",
       "      <td>900.0</td>\n",
       "      <td>2088.0</td>\n",
       "    </tr>\n",
       "    <tr>\n",
       "      <th>4</th>\n",
       "      <td>5/15/2014</td>\n",
       "      <td>15</td>\n",
       "      <td>May</td>\n",
       "      <td>2014</td>\n",
       "      <td>47.0</td>\n",
       "      <td>Adults (35-64)</td>\n",
       "      <td>F</td>\n",
       "      <td>Australia</td>\n",
       "      <td>New South Wales</td>\n",
       "      <td>Accessories</td>\n",
       "      <td>Bike Racks</td>\n",
       "      <td>Hitch Rack - 4-Bike</td>\n",
       "      <td>4</td>\n",
       "      <td>45.0</td>\n",
       "      <td>120.0</td>\n",
       "      <td>238.0</td>\n",
       "      <td>180.0</td>\n",
       "      <td>418.0</td>\n",
       "    </tr>\n",
       "  </tbody>\n",
       "</table>\n",
       "</div>"
      ],
      "text/plain": [
       "         Date  Day     Month  Year  Customer_Age       Age_Group  \\\n",
       "0  11/26/2013   26  November  2013          19.0     Youth (<25)   \n",
       "1  11/26/2015   26       NaN  2015          19.0             NaN   \n",
       "2   3/23/2014   23     March  2014           NaN  Adults (35-64)   \n",
       "3   3/23/2016   23     March  2016          49.0  Adults (35-64)   \n",
       "4   5/15/2014   15       May  2014          47.0  Adults (35-64)   \n",
       "\n",
       "  Customer_Gender    Country             State Product_Category Sub_Category  \\\n",
       "0               M     Canada  British Columbia      Accessories   Bike Racks   \n",
       "1               M     Canada  British Columbia      Accessories   Bike Racks   \n",
       "2               M  Australia               NaN      Accessories   Bike Racks   \n",
       "3               M  Australia   New South Wales      Accessories   Bike Racks   \n",
       "4               F  Australia   New South Wales      Accessories   Bike Racks   \n",
       "\n",
       "               Product  Order_Quantity  Unit_Cost  Unit_Price  Profit    Cost  \\\n",
       "0                  NaN               8       45.0       120.0   590.0     NaN   \n",
       "1  Hitch Rack - 4-Bike               8       45.0         NaN   590.0   360.0   \n",
       "2  Hitch Rack - 4-Bike              23       45.0       120.0  1366.0  1035.0   \n",
       "3  Hitch Rack - 4-Bike              20       45.0       120.0  1188.0   900.0   \n",
       "4  Hitch Rack - 4-Bike               4       45.0       120.0   238.0   180.0   \n",
       "\n",
       "   Revenue  \n",
       "0    950.0  \n",
       "1    950.0  \n",
       "2      NaN  \n",
       "3   2088.0  \n",
       "4    418.0  "
      ]
     },
     "execution_count": 1,
     "metadata": {},
     "output_type": "execute_result"
    }
   ],
   "source": [
    "# Import pandas \n",
    "import pandas as pd\n",
    "\n",
    "# Import matplotlib\n",
    "import matplotlib.pyplot as plt\n",
    "\n",
    "# Import numpy\n",
    "import numpy as np\n",
    "\n",
    "# Use pandas to read in sales_data_na.csv\n",
    "sales_data_na = pd.read_csv('sales_data_na.csv')\n",
    "\n",
    "# Print the shape\n",
    "print(sales_data_na.shape)\n",
    "\n",
    "# print(sales_data_na)\n",
    "sales_data_na.head()"
   ]
  },
  {
   "cell_type": "markdown",
   "id": "e564baee",
   "metadata": {},
   "source": [
    "# Part 2 : Exploring the data\n",
    "\n",
    "1. Print the data types of each column\n",
    "2. Print Summary Statistics\n",
    "3. Summary statistics for all columns that aren't of type object."
   ]
  },
  {
   "cell_type": "code",
   "execution_count": 2,
   "id": "f3f89188",
   "metadata": {},
   "outputs": [
    {
     "name": "stdout",
     "output_type": "stream",
     "text": [
      "Date                 object\n",
      "Day                   int64\n",
      "Month                object\n",
      "Year                  int64\n",
      "Customer_Age        float64\n",
      "Age_Group            object\n",
      "Customer_Gender      object\n",
      "Country              object\n",
      "State                object\n",
      "Product_Category     object\n",
      "Sub_Category         object\n",
      "Product              object\n",
      "Order_Quantity        int64\n",
      "Unit_Cost           float64\n",
      "Unit_Price          float64\n",
      "Profit              float64\n",
      "Cost                float64\n",
      "Revenue             float64\n",
      "dtype: object\n"
     ]
    },
    {
     "data": {
      "text/html": [
       "<div>\n",
       "<style scoped>\n",
       "    .dataframe tbody tr th:only-of-type {\n",
       "        vertical-align: middle;\n",
       "    }\n",
       "\n",
       "    .dataframe tbody tr th {\n",
       "        vertical-align: top;\n",
       "    }\n",
       "\n",
       "    .dataframe thead th {\n",
       "        text-align: right;\n",
       "    }\n",
       "</style>\n",
       "<table border=\"1\" class=\"dataframe\">\n",
       "  <thead>\n",
       "    <tr style=\"text-align: right;\">\n",
       "      <th></th>\n",
       "      <th>Date</th>\n",
       "      <th>Day</th>\n",
       "      <th>Month</th>\n",
       "      <th>Year</th>\n",
       "      <th>Customer_Age</th>\n",
       "      <th>Age_Group</th>\n",
       "      <th>Customer_Gender</th>\n",
       "      <th>Country</th>\n",
       "      <th>State</th>\n",
       "      <th>Product_Category</th>\n",
       "      <th>Sub_Category</th>\n",
       "      <th>Product</th>\n",
       "      <th>Order_Quantity</th>\n",
       "      <th>Unit_Cost</th>\n",
       "      <th>Unit_Price</th>\n",
       "      <th>Profit</th>\n",
       "      <th>Cost</th>\n",
       "      <th>Revenue</th>\n",
       "    </tr>\n",
       "  </thead>\n",
       "  <tbody>\n",
       "    <tr>\n",
       "      <th>0</th>\n",
       "      <td>11/26/2013</td>\n",
       "      <td>26</td>\n",
       "      <td>November</td>\n",
       "      <td>2013</td>\n",
       "      <td>19.0</td>\n",
       "      <td>Youth (&lt;25)</td>\n",
       "      <td>M</td>\n",
       "      <td>Canada</td>\n",
       "      <td>British Columbia</td>\n",
       "      <td>Accessories</td>\n",
       "      <td>Bike Racks</td>\n",
       "      <td>NaN</td>\n",
       "      <td>8</td>\n",
       "      <td>45.0</td>\n",
       "      <td>120.0</td>\n",
       "      <td>590.0</td>\n",
       "      <td>NaN</td>\n",
       "      <td>950.0</td>\n",
       "    </tr>\n",
       "    <tr>\n",
       "      <th>1</th>\n",
       "      <td>11/26/2015</td>\n",
       "      <td>26</td>\n",
       "      <td>NaN</td>\n",
       "      <td>2015</td>\n",
       "      <td>19.0</td>\n",
       "      <td>NaN</td>\n",
       "      <td>M</td>\n",
       "      <td>Canada</td>\n",
       "      <td>British Columbia</td>\n",
       "      <td>Accessories</td>\n",
       "      <td>Bike Racks</td>\n",
       "      <td>Hitch Rack - 4-Bike</td>\n",
       "      <td>8</td>\n",
       "      <td>45.0</td>\n",
       "      <td>NaN</td>\n",
       "      <td>590.0</td>\n",
       "      <td>360.0</td>\n",
       "      <td>950.0</td>\n",
       "    </tr>\n",
       "  </tbody>\n",
       "</table>\n",
       "</div>"
      ],
      "text/plain": [
       "         Date  Day     Month  Year  Customer_Age    Age_Group Customer_Gender  \\\n",
       "0  11/26/2013   26  November  2013          19.0  Youth (<25)               M   \n",
       "1  11/26/2015   26       NaN  2015          19.0          NaN               M   \n",
       "\n",
       "  Country             State Product_Category Sub_Category  \\\n",
       "0  Canada  British Columbia      Accessories   Bike Racks   \n",
       "1  Canada  British Columbia      Accessories   Bike Racks   \n",
       "\n",
       "               Product  Order_Quantity  Unit_Cost  Unit_Price  Profit   Cost  \\\n",
       "0                  NaN               8       45.0       120.0   590.0    NaN   \n",
       "1  Hitch Rack - 4-Bike               8       45.0         NaN   590.0  360.0   \n",
       "\n",
       "   Revenue  \n",
       "0    950.0  \n",
       "1    950.0  "
      ]
     },
     "execution_count": 2,
     "metadata": {},
     "output_type": "execute_result"
    }
   ],
   "source": [
    "# Print .dtypes\n",
    "print(sales_data_na.dtypes)\n",
    "\n",
    "# Exclude data of type object\n",
    "sales_data_na.describe(exclude=['object'])\n",
    "\n",
    "# print(sales_data_na)\n",
    "sales_data_na.head(2)"
   ]
  },
  {
   "cell_type": "code",
   "execution_count": 3,
   "id": "b656b64f",
   "metadata": {},
   "outputs": [
    {
     "data": {
      "text/html": [
       "<div>\n",
       "<style scoped>\n",
       "    .dataframe tbody tr th:only-of-type {\n",
       "        vertical-align: middle;\n",
       "    }\n",
       "\n",
       "    .dataframe tbody tr th {\n",
       "        vertical-align: top;\n",
       "    }\n",
       "\n",
       "    .dataframe thead th {\n",
       "        text-align: right;\n",
       "    }\n",
       "</style>\n",
       "<table border=\"1\" class=\"dataframe\">\n",
       "  <thead>\n",
       "    <tr style=\"text-align: right;\">\n",
       "      <th></th>\n",
       "      <th>Date</th>\n",
       "      <th>Day</th>\n",
       "      <th>Month</th>\n",
       "      <th>Year</th>\n",
       "      <th>Customer_Age</th>\n",
       "      <th>Age_Group</th>\n",
       "      <th>Customer_Gender</th>\n",
       "      <th>Country</th>\n",
       "      <th>State</th>\n",
       "      <th>Product_Category</th>\n",
       "      <th>Sub_Category</th>\n",
       "      <th>Product</th>\n",
       "      <th>Order_Quantity</th>\n",
       "      <th>Unit_Cost</th>\n",
       "      <th>Unit_Price</th>\n",
       "      <th>Profit</th>\n",
       "      <th>Cost</th>\n",
       "      <th>Revenue</th>\n",
       "      <th>New_Revenue</th>\n",
       "    </tr>\n",
       "  </thead>\n",
       "  <tbody>\n",
       "    <tr>\n",
       "      <th>0</th>\n",
       "      <td>11/26/2013</td>\n",
       "      <td>26</td>\n",
       "      <td>November</td>\n",
       "      <td>2013</td>\n",
       "      <td>19.0</td>\n",
       "      <td>Youth (&lt;25)</td>\n",
       "      <td>M</td>\n",
       "      <td>Canada</td>\n",
       "      <td>British Columbia</td>\n",
       "      <td>Accessories</td>\n",
       "      <td>Bike Racks</td>\n",
       "      <td>NaN</td>\n",
       "      <td>8</td>\n",
       "      <td>45.0</td>\n",
       "      <td>120.0</td>\n",
       "      <td>590.0</td>\n",
       "      <td>NaN</td>\n",
       "      <td>950.0</td>\n",
       "      <td>960.0</td>\n",
       "    </tr>\n",
       "    <tr>\n",
       "      <th>1</th>\n",
       "      <td>11/26/2015</td>\n",
       "      <td>26</td>\n",
       "      <td>NaN</td>\n",
       "      <td>2015</td>\n",
       "      <td>19.0</td>\n",
       "      <td>NaN</td>\n",
       "      <td>M</td>\n",
       "      <td>Canada</td>\n",
       "      <td>British Columbia</td>\n",
       "      <td>Accessories</td>\n",
       "      <td>Bike Racks</td>\n",
       "      <td>Hitch Rack - 4-Bike</td>\n",
       "      <td>8</td>\n",
       "      <td>45.0</td>\n",
       "      <td>NaN</td>\n",
       "      <td>590.0</td>\n",
       "      <td>360.0</td>\n",
       "      <td>950.0</td>\n",
       "      <td>NaN</td>\n",
       "    </tr>\n",
       "  </tbody>\n",
       "</table>\n",
       "</div>"
      ],
      "text/plain": [
       "         Date  Day     Month  Year  Customer_Age    Age_Group Customer_Gender  \\\n",
       "0  11/26/2013   26  November  2013          19.0  Youth (<25)               M   \n",
       "1  11/26/2015   26       NaN  2015          19.0          NaN               M   \n",
       "\n",
       "  Country             State Product_Category Sub_Category  \\\n",
       "0  Canada  British Columbia      Accessories   Bike Racks   \n",
       "1  Canada  British Columbia      Accessories   Bike Racks   \n",
       "\n",
       "               Product  Order_Quantity  Unit_Cost  Unit_Price  Profit   Cost  \\\n",
       "0                  NaN               8       45.0       120.0   590.0    NaN   \n",
       "1  Hitch Rack - 4-Bike               8       45.0         NaN   590.0  360.0   \n",
       "\n",
       "   Revenue  New_Revenue  \n",
       "0    950.0        960.0  \n",
       "1    950.0          NaN  "
      ]
     },
     "execution_count": 3,
     "metadata": {},
     "output_type": "execute_result"
    }
   ],
   "source": [
    "# Revenue value is not correctly calculated\n",
    "\n",
    "# Create a new column name 'New_Revenue' with correct value\n",
    "New_Revenue= sales_data_na['Order_Quantity'] * sales_data_na['Unit_Price']\n",
    "sales_data_na['New_Revenue'] = New_Revenue\n",
    "sales_data_na.head(2)"
   ]
  },
  {
   "cell_type": "code",
   "execution_count": 4,
   "id": "e78141a0",
   "metadata": {},
   "outputs": [],
   "source": [
    "# Since the Revenue column is not correctly calculated so dropped the Revenue column\n",
    "\n",
    "sales_data_na = sales_data_na.drop('Revenue',axis=1)"
   ]
  },
  {
   "cell_type": "code",
   "execution_count": 5,
   "id": "0b9142eb",
   "metadata": {},
   "outputs": [
    {
     "data": {
      "text/html": [
       "<div>\n",
       "<style scoped>\n",
       "    .dataframe tbody tr th:only-of-type {\n",
       "        vertical-align: middle;\n",
       "    }\n",
       "\n",
       "    .dataframe tbody tr th {\n",
       "        vertical-align: top;\n",
       "    }\n",
       "\n",
       "    .dataframe thead th {\n",
       "        text-align: right;\n",
       "    }\n",
       "</style>\n",
       "<table border=\"1\" class=\"dataframe\">\n",
       "  <thead>\n",
       "    <tr style=\"text-align: right;\">\n",
       "      <th></th>\n",
       "      <th>Date</th>\n",
       "      <th>Day</th>\n",
       "      <th>Month</th>\n",
       "      <th>Year</th>\n",
       "      <th>Customer_Age</th>\n",
       "      <th>Age_Group</th>\n",
       "      <th>Customer_Gender</th>\n",
       "      <th>Country</th>\n",
       "      <th>State</th>\n",
       "      <th>Product_Category</th>\n",
       "      <th>Sub_Category</th>\n",
       "      <th>Product</th>\n",
       "      <th>Order_Quantity</th>\n",
       "      <th>Unit_Cost</th>\n",
       "      <th>Unit_Price</th>\n",
       "      <th>Profit</th>\n",
       "      <th>Cost</th>\n",
       "      <th>Revenue</th>\n",
       "    </tr>\n",
       "  </thead>\n",
       "  <tbody>\n",
       "    <tr>\n",
       "      <th>0</th>\n",
       "      <td>11/26/2013</td>\n",
       "      <td>26</td>\n",
       "      <td>November</td>\n",
       "      <td>2013</td>\n",
       "      <td>19.0</td>\n",
       "      <td>Youth (&lt;25)</td>\n",
       "      <td>M</td>\n",
       "      <td>Canada</td>\n",
       "      <td>British Columbia</td>\n",
       "      <td>Accessories</td>\n",
       "      <td>Bike Racks</td>\n",
       "      <td>NaN</td>\n",
       "      <td>8</td>\n",
       "      <td>45.0</td>\n",
       "      <td>120.0</td>\n",
       "      <td>590.0</td>\n",
       "      <td>NaN</td>\n",
       "      <td>960.0</td>\n",
       "    </tr>\n",
       "    <tr>\n",
       "      <th>1</th>\n",
       "      <td>11/26/2015</td>\n",
       "      <td>26</td>\n",
       "      <td>NaN</td>\n",
       "      <td>2015</td>\n",
       "      <td>19.0</td>\n",
       "      <td>NaN</td>\n",
       "      <td>M</td>\n",
       "      <td>Canada</td>\n",
       "      <td>British Columbia</td>\n",
       "      <td>Accessories</td>\n",
       "      <td>Bike Racks</td>\n",
       "      <td>Hitch Rack - 4-Bike</td>\n",
       "      <td>8</td>\n",
       "      <td>45.0</td>\n",
       "      <td>NaN</td>\n",
       "      <td>590.0</td>\n",
       "      <td>360.0</td>\n",
       "      <td>NaN</td>\n",
       "    </tr>\n",
       "  </tbody>\n",
       "</table>\n",
       "</div>"
      ],
      "text/plain": [
       "         Date  Day     Month  Year  Customer_Age    Age_Group Customer_Gender  \\\n",
       "0  11/26/2013   26  November  2013          19.0  Youth (<25)               M   \n",
       "1  11/26/2015   26       NaN  2015          19.0          NaN               M   \n",
       "\n",
       "  Country             State Product_Category Sub_Category  \\\n",
       "0  Canada  British Columbia      Accessories   Bike Racks   \n",
       "1  Canada  British Columbia      Accessories   Bike Racks   \n",
       "\n",
       "               Product  Order_Quantity  Unit_Cost  Unit_Price  Profit   Cost  \\\n",
       "0                  NaN               8       45.0       120.0   590.0    NaN   \n",
       "1  Hitch Rack - 4-Bike               8       45.0         NaN   590.0  360.0   \n",
       "\n",
       "   Revenue  \n",
       "0    960.0  \n",
       "1      NaN  "
      ]
     },
     "execution_count": 5,
     "metadata": {},
     "output_type": "execute_result"
    }
   ],
   "source": [
    "# Renamed the new column as Revenue\n",
    "\n",
    "sales_data_na = sales_data_na.rename(columns = {'New_Revenue':'Revenue'})\n",
    "sales_data_na.head(2)"
   ]
  },
  {
   "cell_type": "code",
   "execution_count": 6,
   "id": "7fb664b9",
   "metadata": {},
   "outputs": [
    {
     "data": {
      "text/html": [
       "<div>\n",
       "<style scoped>\n",
       "    .dataframe tbody tr th:only-of-type {\n",
       "        vertical-align: middle;\n",
       "    }\n",
       "\n",
       "    .dataframe tbody tr th {\n",
       "        vertical-align: top;\n",
       "    }\n",
       "\n",
       "    .dataframe thead th {\n",
       "        text-align: right;\n",
       "    }\n",
       "</style>\n",
       "<table border=\"1\" class=\"dataframe\">\n",
       "  <thead>\n",
       "    <tr style=\"text-align: right;\">\n",
       "      <th></th>\n",
       "      <th>Date</th>\n",
       "      <th>Day</th>\n",
       "      <th>Month</th>\n",
       "      <th>Year</th>\n",
       "      <th>Customer_Age</th>\n",
       "      <th>Age_Group</th>\n",
       "      <th>Customer_Gender</th>\n",
       "      <th>Country</th>\n",
       "      <th>State</th>\n",
       "      <th>Product_Category</th>\n",
       "      <th>Sub_Category</th>\n",
       "      <th>Product</th>\n",
       "      <th>Order_Quantity</th>\n",
       "      <th>Unit_Cost</th>\n",
       "      <th>Unit_Price</th>\n",
       "      <th>New_Profit</th>\n",
       "      <th>Profit</th>\n",
       "      <th>Cost</th>\n",
       "      <th>Revenue</th>\n",
       "    </tr>\n",
       "  </thead>\n",
       "  <tbody>\n",
       "    <tr>\n",
       "      <th>0</th>\n",
       "      <td>11/26/2013</td>\n",
       "      <td>26</td>\n",
       "      <td>November</td>\n",
       "      <td>2013</td>\n",
       "      <td>19.0</td>\n",
       "      <td>Youth (&lt;25)</td>\n",
       "      <td>M</td>\n",
       "      <td>Canada</td>\n",
       "      <td>British Columbia</td>\n",
       "      <td>Accessories</td>\n",
       "      <td>Bike Racks</td>\n",
       "      <td>NaN</td>\n",
       "      <td>8</td>\n",
       "      <td>45.0</td>\n",
       "      <td>120.0</td>\n",
       "      <td>NaN</td>\n",
       "      <td>590.0</td>\n",
       "      <td>NaN</td>\n",
       "      <td>960.0</td>\n",
       "    </tr>\n",
       "    <tr>\n",
       "      <th>1</th>\n",
       "      <td>11/26/2015</td>\n",
       "      <td>26</td>\n",
       "      <td>NaN</td>\n",
       "      <td>2015</td>\n",
       "      <td>19.0</td>\n",
       "      <td>NaN</td>\n",
       "      <td>M</td>\n",
       "      <td>Canada</td>\n",
       "      <td>British Columbia</td>\n",
       "      <td>Accessories</td>\n",
       "      <td>Bike Racks</td>\n",
       "      <td>Hitch Rack - 4-Bike</td>\n",
       "      <td>8</td>\n",
       "      <td>45.0</td>\n",
       "      <td>NaN</td>\n",
       "      <td>NaN</td>\n",
       "      <td>590.0</td>\n",
       "      <td>360.0</td>\n",
       "      <td>NaN</td>\n",
       "    </tr>\n",
       "    <tr>\n",
       "      <th>2</th>\n",
       "      <td>3/23/2014</td>\n",
       "      <td>23</td>\n",
       "      <td>March</td>\n",
       "      <td>2014</td>\n",
       "      <td>NaN</td>\n",
       "      <td>Adults (35-64)</td>\n",
       "      <td>M</td>\n",
       "      <td>Australia</td>\n",
       "      <td>NaN</td>\n",
       "      <td>Accessories</td>\n",
       "      <td>Bike Racks</td>\n",
       "      <td>Hitch Rack - 4-Bike</td>\n",
       "      <td>23</td>\n",
       "      <td>45.0</td>\n",
       "      <td>120.0</td>\n",
       "      <td>1725.0</td>\n",
       "      <td>1366.0</td>\n",
       "      <td>1035.0</td>\n",
       "      <td>2760.0</td>\n",
       "    </tr>\n",
       "  </tbody>\n",
       "</table>\n",
       "</div>"
      ],
      "text/plain": [
       "         Date  Day     Month  Year  Customer_Age       Age_Group  \\\n",
       "0  11/26/2013   26  November  2013          19.0     Youth (<25)   \n",
       "1  11/26/2015   26       NaN  2015          19.0             NaN   \n",
       "2   3/23/2014   23     March  2014           NaN  Adults (35-64)   \n",
       "\n",
       "  Customer_Gender    Country             State Product_Category Sub_Category  \\\n",
       "0               M     Canada  British Columbia      Accessories   Bike Racks   \n",
       "1               M     Canada  British Columbia      Accessories   Bike Racks   \n",
       "2               M  Australia               NaN      Accessories   Bike Racks   \n",
       "\n",
       "               Product  Order_Quantity  Unit_Cost  Unit_Price  New_Profit  \\\n",
       "0                  NaN               8       45.0       120.0         NaN   \n",
       "1  Hitch Rack - 4-Bike               8       45.0         NaN         NaN   \n",
       "2  Hitch Rack - 4-Bike              23       45.0       120.0      1725.0   \n",
       "\n",
       "   Profit    Cost  Revenue  \n",
       "0   590.0     NaN    960.0  \n",
       "1   590.0   360.0      NaN  \n",
       "2  1366.0  1035.0   2760.0  "
      ]
     },
     "execution_count": 6,
     "metadata": {},
     "output_type": "execute_result"
    }
   ],
   "source": [
    "# Since the Revenue value changed, this affected the Profit column value\n",
    "# Same step as Revenue\n",
    "\n",
    "# Create new column for Profit\n",
    "New_Profit= sales_data_na['Revenue'] - sales_data_na['Cost']\n",
    "\n",
    "# Insert the new column beside the existing Profit column\n",
    "sales_data_na.insert(loc = 15,column = 'New_Profit', value = New_Profit)\n",
    "sales_data_na.head(3)"
   ]
  },
  {
   "cell_type": "code",
   "execution_count": 7,
   "id": "e89f3dcb",
   "metadata": {},
   "outputs": [],
   "source": [
    "# Since the Profit column is not correctly calculated so dropped the profit column\n",
    "\n",
    "sales_data_na = sales_data_na.drop('Profit',axis=1)"
   ]
  },
  {
   "cell_type": "code",
   "execution_count": 8,
   "id": "3c2027f4",
   "metadata": {},
   "outputs": [
    {
     "data": {
      "text/html": [
       "<div>\n",
       "<style scoped>\n",
       "    .dataframe tbody tr th:only-of-type {\n",
       "        vertical-align: middle;\n",
       "    }\n",
       "\n",
       "    .dataframe tbody tr th {\n",
       "        vertical-align: top;\n",
       "    }\n",
       "\n",
       "    .dataframe thead th {\n",
       "        text-align: right;\n",
       "    }\n",
       "</style>\n",
       "<table border=\"1\" class=\"dataframe\">\n",
       "  <thead>\n",
       "    <tr style=\"text-align: right;\">\n",
       "      <th></th>\n",
       "      <th>Date</th>\n",
       "      <th>Day</th>\n",
       "      <th>Month</th>\n",
       "      <th>Year</th>\n",
       "      <th>Customer_Age</th>\n",
       "      <th>Age_Group</th>\n",
       "      <th>Customer_Gender</th>\n",
       "      <th>Country</th>\n",
       "      <th>State</th>\n",
       "      <th>Product_Category</th>\n",
       "      <th>Sub_Category</th>\n",
       "      <th>Product</th>\n",
       "      <th>Order_Quantity</th>\n",
       "      <th>Unit_Cost</th>\n",
       "      <th>Unit_Price</th>\n",
       "      <th>Profit</th>\n",
       "      <th>Cost</th>\n",
       "      <th>Revenue</th>\n",
       "    </tr>\n",
       "  </thead>\n",
       "  <tbody>\n",
       "    <tr>\n",
       "      <th>0</th>\n",
       "      <td>11/26/2013</td>\n",
       "      <td>26</td>\n",
       "      <td>November</td>\n",
       "      <td>2013</td>\n",
       "      <td>19.0</td>\n",
       "      <td>Youth (&lt;25)</td>\n",
       "      <td>M</td>\n",
       "      <td>Canada</td>\n",
       "      <td>British Columbia</td>\n",
       "      <td>Accessories</td>\n",
       "      <td>Bike Racks</td>\n",
       "      <td>NaN</td>\n",
       "      <td>8</td>\n",
       "      <td>45.0</td>\n",
       "      <td>120.0</td>\n",
       "      <td>NaN</td>\n",
       "      <td>NaN</td>\n",
       "      <td>960.0</td>\n",
       "    </tr>\n",
       "    <tr>\n",
       "      <th>1</th>\n",
       "      <td>11/26/2015</td>\n",
       "      <td>26</td>\n",
       "      <td>NaN</td>\n",
       "      <td>2015</td>\n",
       "      <td>19.0</td>\n",
       "      <td>NaN</td>\n",
       "      <td>M</td>\n",
       "      <td>Canada</td>\n",
       "      <td>British Columbia</td>\n",
       "      <td>Accessories</td>\n",
       "      <td>Bike Racks</td>\n",
       "      <td>Hitch Rack - 4-Bike</td>\n",
       "      <td>8</td>\n",
       "      <td>45.0</td>\n",
       "      <td>NaN</td>\n",
       "      <td>NaN</td>\n",
       "      <td>360.0</td>\n",
       "      <td>NaN</td>\n",
       "    </tr>\n",
       "    <tr>\n",
       "      <th>2</th>\n",
       "      <td>3/23/2014</td>\n",
       "      <td>23</td>\n",
       "      <td>March</td>\n",
       "      <td>2014</td>\n",
       "      <td>NaN</td>\n",
       "      <td>Adults (35-64)</td>\n",
       "      <td>M</td>\n",
       "      <td>Australia</td>\n",
       "      <td>NaN</td>\n",
       "      <td>Accessories</td>\n",
       "      <td>Bike Racks</td>\n",
       "      <td>Hitch Rack - 4-Bike</td>\n",
       "      <td>23</td>\n",
       "      <td>45.0</td>\n",
       "      <td>120.0</td>\n",
       "      <td>1725.0</td>\n",
       "      <td>1035.0</td>\n",
       "      <td>2760.0</td>\n",
       "    </tr>\n",
       "  </tbody>\n",
       "</table>\n",
       "</div>"
      ],
      "text/plain": [
       "         Date  Day     Month  Year  Customer_Age       Age_Group  \\\n",
       "0  11/26/2013   26  November  2013          19.0     Youth (<25)   \n",
       "1  11/26/2015   26       NaN  2015          19.0             NaN   \n",
       "2   3/23/2014   23     March  2014           NaN  Adults (35-64)   \n",
       "\n",
       "  Customer_Gender    Country             State Product_Category Sub_Category  \\\n",
       "0               M     Canada  British Columbia      Accessories   Bike Racks   \n",
       "1               M     Canada  British Columbia      Accessories   Bike Racks   \n",
       "2               M  Australia               NaN      Accessories   Bike Racks   \n",
       "\n",
       "               Product  Order_Quantity  Unit_Cost  Unit_Price  Profit    Cost  \\\n",
       "0                  NaN               8       45.0       120.0     NaN     NaN   \n",
       "1  Hitch Rack - 4-Bike               8       45.0         NaN     NaN   360.0   \n",
       "2  Hitch Rack - 4-Bike              23       45.0       120.0  1725.0  1035.0   \n",
       "\n",
       "   Revenue  \n",
       "0    960.0  \n",
       "1      NaN  \n",
       "2   2760.0  "
      ]
     },
     "execution_count": 8,
     "metadata": {},
     "output_type": "execute_result"
    }
   ],
   "source": [
    "# Renamed the column as Profit\n",
    "\n",
    "sales_data_na = sales_data_na.rename(columns = {'New_Profit':'Profit'})\n",
    "sales_data_na.head(3)"
   ]
  },
  {
   "cell_type": "markdown",
   "id": "2fa49b88",
   "metadata": {},
   "source": [
    "# Part 3 : Data Cleaning\n",
    "\n",
    "   1 Missing Data / Empty Value\n",
    "   2 Check for missing data\n",
    "   3 Remove the missing data"
   ]
  },
  {
   "cell_type": "code",
   "execution_count": 9,
   "id": "bf4a4c66",
   "metadata": {
    "scrolled": true
   },
   "outputs": [
    {
     "name": "stdout",
     "output_type": "stream",
     "text": [
      "Date                0\n",
      "Day                 0\n",
      "Month               1\n",
      "Year                0\n",
      "Customer_Age        1\n",
      "Age_Group           1\n",
      "Customer_Gender     0\n",
      "Country             0\n",
      "State               1\n",
      "Product_Category    0\n",
      "Sub_Category        0\n",
      "Product             1\n",
      "Order_Quantity      0\n",
      "Unit_Cost           3\n",
      "Unit_Price          1\n",
      "Profit              2\n",
      "Cost                1\n",
      "Revenue             1\n",
      "dtype: int64\n"
     ]
    }
   ],
   "source": [
    "# Checking for missing values using isnull()\n",
    "sales_data_na.isnull()\n",
    "\n",
    "# Print the total missing values in each column\n",
    "print(sales_data_na.isnull().sum())"
   ]
  },
  {
   "cell_type": "code",
   "execution_count": 10,
   "id": "ffa43a06",
   "metadata": {},
   "outputs": [
    {
     "name": "stdout",
     "output_type": "stream",
     "text": [
      "Date                0\n",
      "Day                 0\n",
      "Month               0\n",
      "Year                0\n",
      "Customer_Age        0\n",
      "Age_Group           0\n",
      "Customer_Gender     0\n",
      "Country             0\n",
      "State               0\n",
      "Product_Category    0\n",
      "Sub_Category        0\n",
      "Product             0\n",
      "Order_Quantity      0\n",
      "Unit_Cost           0\n",
      "Unit_Price          0\n",
      "Profit              0\n",
      "Cost                0\n",
      "Revenue             0\n",
      "dtype: int64\n"
     ]
    }
   ],
   "source": [
    "# Drop the missing value row \n",
    "remove_nan = sales_data_na.dropna()\n",
    "\n",
    "sales_data_na = remove_nan.copy()\n",
    "\n",
    "# Print again to check the missing values\n",
    "print(sales_data_na.isnull().sum())"
   ]
  },
  {
   "cell_type": "code",
   "execution_count": 11,
   "id": "0d23addd",
   "metadata": {},
   "outputs": [
    {
     "name": "stdout",
     "output_type": "stream",
     "text": [
      "(113031, 18)\n"
     ]
    }
   ],
   "source": [
    "# Print the shape after drop the missing values\n",
    "print(sales_data_na.shape)"
   ]
  },
  {
   "cell_type": "markdown",
   "id": "4bf7967b",
   "metadata": {},
   "source": [
    "# 3.2 Inconsistent column names\n",
    "         \n",
    "   1. Check for columns name\n",
    "   2. Drop unnessary columns\n",
    "   3. Replace variable name"
   ]
  },
  {
   "cell_type": "code",
   "execution_count": 12,
   "id": "2d145800",
   "metadata": {},
   "outputs": [
    {
     "name": "stdout",
     "output_type": "stream",
     "text": [
      "['Date', 'Day', 'Month', 'Year', 'Customer_Age', 'Age_Group', 'Customer_Gender', 'Country', 'State', 'Product_Category', 'Sub_Category', 'Product', 'Order_Quantity', 'Unit_Cost', 'Unit_Price', 'Profit', 'Cost', 'Revenue']\n"
     ]
    }
   ],
   "source": [
    "# Create a variable name 'data_sales_columns'\n",
    "data_sales_columns = list(sales_data_na.columns)\n",
    "\n",
    "# Print all the columns name in the data\n",
    "print(data_sales_columns)"
   ]
  },
  {
   "cell_type": "code",
   "execution_count": 13,
   "id": "fa59a11e",
   "metadata": {},
   "outputs": [
    {
     "name": "stdout",
     "output_type": "stream",
     "text": [
      "3           Male\n",
      "4         Female\n",
      "5         Female\n",
      "6         Female\n",
      "7         Female\n",
      "           ...  \n",
      "113032      Male\n",
      "113033      Male\n",
      "113034      Male\n",
      "113035    Female\n",
      "113036    Female\n",
      "Name: Customer_Gender, Length: 113031, dtype: object\n"
     ]
    }
   ],
   "source": [
    "# Replaced the ‘M’ and ‘F’ in the gender column to ‘Male’ and ‘Female’ \n",
    "Gender_replace = sales_data_na['Customer_Gender'].replace('M','Male', inplace = True)\n",
    "Gender_replace = sales_data_na['Customer_Gender'].replace('F','Female', inplace = True)\n",
    "\n",
    "print(sales_data_na['Customer_Gender'])"
   ]
  },
  {
   "cell_type": "code",
   "execution_count": 14,
   "id": "83eb60e8",
   "metadata": {},
   "outputs": [
    {
     "name": "stdout",
     "output_type": "stream",
     "text": [
      "(113031, 16)\n"
     ]
    }
   ],
   "source": [
    "#removed the columns ‘Day’ and ‘Date’\n",
    "sales_data_na.drop('Day', axis=1, inplace = True)\n",
    "sales_data_na.drop('Date', axis=1, inplace = True)\n",
    "\n",
    "sales_data_na.head()\n",
    "\n",
    "# Print the shape\n",
    "print(sales_data_na.shape)"
   ]
  },
  {
   "cell_type": "markdown",
   "id": "e672a58a",
   "metadata": {},
   "source": [
    "# 3.3 Duplicate rows\n",
    "\n",
    "   1. Checking for any duplicated row\n",
    "   2. Remove all the duplicated row"
   ]
  },
  {
   "cell_type": "code",
   "execution_count": 15,
   "id": "a68ba0b6",
   "metadata": {},
   "outputs": [
    {
     "name": "stdout",
     "output_type": "stream",
     "text": [
      "Duplicate Rows :\n"
     ]
    },
    {
     "data": {
      "text/html": [
       "<div>\n",
       "<style scoped>\n",
       "    .dataframe tbody tr th:only-of-type {\n",
       "        vertical-align: middle;\n",
       "    }\n",
       "\n",
       "    .dataframe tbody tr th {\n",
       "        vertical-align: top;\n",
       "    }\n",
       "\n",
       "    .dataframe thead th {\n",
       "        text-align: right;\n",
       "    }\n",
       "</style>\n",
       "<table border=\"1\" class=\"dataframe\">\n",
       "  <thead>\n",
       "    <tr style=\"text-align: right;\">\n",
       "      <th></th>\n",
       "      <th>Month</th>\n",
       "      <th>Year</th>\n",
       "      <th>Customer_Age</th>\n",
       "      <th>Age_Group</th>\n",
       "      <th>Customer_Gender</th>\n",
       "      <th>Country</th>\n",
       "      <th>State</th>\n",
       "      <th>Product_Category</th>\n",
       "      <th>Sub_Category</th>\n",
       "      <th>Product</th>\n",
       "      <th>Order_Quantity</th>\n",
       "      <th>Unit_Cost</th>\n",
       "      <th>Unit_Price</th>\n",
       "      <th>Profit</th>\n",
       "      <th>Cost</th>\n",
       "      <th>Revenue</th>\n",
       "    </tr>\n",
       "  </thead>\n",
       "  <tbody>\n",
       "    <tr>\n",
       "      <th>309</th>\n",
       "      <td>September</td>\n",
       "      <td>2015</td>\n",
       "      <td>33.0</td>\n",
       "      <td>Young Adults (25-34)</td>\n",
       "      <td>Male</td>\n",
       "      <td>Canada</td>\n",
       "      <td>British Columbia</td>\n",
       "      <td>Accessories</td>\n",
       "      <td>Bike Racks</td>\n",
       "      <td>Hitch Rack - 4-Bike</td>\n",
       "      <td>2</td>\n",
       "      <td>45.0</td>\n",
       "      <td>120.0</td>\n",
       "      <td>150.0</td>\n",
       "      <td>90.0</td>\n",
       "      <td>240.0</td>\n",
       "    </tr>\n",
       "    <tr>\n",
       "      <th>1021</th>\n",
       "      <td>December</td>\n",
       "      <td>2013</td>\n",
       "      <td>22.0</td>\n",
       "      <td>Youth (&lt;25)</td>\n",
       "      <td>Male</td>\n",
       "      <td>Australia</td>\n",
       "      <td>New South Wales</td>\n",
       "      <td>Accessories</td>\n",
       "      <td>Bike Stands</td>\n",
       "      <td>All-Purpose Bike Stand</td>\n",
       "      <td>9</td>\n",
       "      <td>59.0</td>\n",
       "      <td>159.0</td>\n",
       "      <td>900.0</td>\n",
       "      <td>531.0</td>\n",
       "      <td>1431.0</td>\n",
       "    </tr>\n",
       "    <tr>\n",
       "      <th>1091</th>\n",
       "      <td>September</td>\n",
       "      <td>2015</td>\n",
       "      <td>42.0</td>\n",
       "      <td>Adults (35-64)</td>\n",
       "      <td>Female</td>\n",
       "      <td>Australia</td>\n",
       "      <td>Victoria</td>\n",
       "      <td>Accessories</td>\n",
       "      <td>Bottles and Cages</td>\n",
       "      <td>Mountain Bottle Cage</td>\n",
       "      <td>5</td>\n",
       "      <td>4.0</td>\n",
       "      <td>10.0</td>\n",
       "      <td>30.0</td>\n",
       "      <td>20.0</td>\n",
       "      <td>50.0</td>\n",
       "    </tr>\n",
       "    <tr>\n",
       "      <th>1093</th>\n",
       "      <td>October</td>\n",
       "      <td>2013</td>\n",
       "      <td>42.0</td>\n",
       "      <td>Adults (35-64)</td>\n",
       "      <td>Female</td>\n",
       "      <td>Australia</td>\n",
       "      <td>Victoria</td>\n",
       "      <td>Accessories</td>\n",
       "      <td>Bottles and Cages</td>\n",
       "      <td>Mountain Bottle Cage</td>\n",
       "      <td>2</td>\n",
       "      <td>4.0</td>\n",
       "      <td>10.0</td>\n",
       "      <td>12.0</td>\n",
       "      <td>8.0</td>\n",
       "      <td>20.0</td>\n",
       "    </tr>\n",
       "    <tr>\n",
       "      <th>1095</th>\n",
       "      <td>October</td>\n",
       "      <td>2015</td>\n",
       "      <td>42.0</td>\n",
       "      <td>Adults (35-64)</td>\n",
       "      <td>Female</td>\n",
       "      <td>Australia</td>\n",
       "      <td>Victoria</td>\n",
       "      <td>Accessories</td>\n",
       "      <td>Bottles and Cages</td>\n",
       "      <td>Mountain Bottle Cage</td>\n",
       "      <td>1</td>\n",
       "      <td>4.0</td>\n",
       "      <td>10.0</td>\n",
       "      <td>6.0</td>\n",
       "      <td>4.0</td>\n",
       "      <td>10.0</td>\n",
       "    </tr>\n",
       "    <tr>\n",
       "      <th>...</th>\n",
       "      <td>...</td>\n",
       "      <td>...</td>\n",
       "      <td>...</td>\n",
       "      <td>...</td>\n",
       "      <td>...</td>\n",
       "      <td>...</td>\n",
       "      <td>...</td>\n",
       "      <td>...</td>\n",
       "      <td>...</td>\n",
       "      <td>...</td>\n",
       "      <td>...</td>\n",
       "      <td>...</td>\n",
       "      <td>...</td>\n",
       "      <td>...</td>\n",
       "      <td>...</td>\n",
       "      <td>...</td>\n",
       "    </tr>\n",
       "    <tr>\n",
       "      <th>112028</th>\n",
       "      <td>June</td>\n",
       "      <td>2016</td>\n",
       "      <td>32.0</td>\n",
       "      <td>Young Adults (25-34)</td>\n",
       "      <td>Male</td>\n",
       "      <td>Germany</td>\n",
       "      <td>Hamburg</td>\n",
       "      <td>Bikes</td>\n",
       "      <td>Touring Bikes</td>\n",
       "      <td>Touring-3000 Yellow, 50</td>\n",
       "      <td>1</td>\n",
       "      <td>461.0</td>\n",
       "      <td>742.0</td>\n",
       "      <td>281.0</td>\n",
       "      <td>461.0</td>\n",
       "      <td>742.0</td>\n",
       "    </tr>\n",
       "    <tr>\n",
       "      <th>112047</th>\n",
       "      <td>October</td>\n",
       "      <td>2013</td>\n",
       "      <td>22.0</td>\n",
       "      <td>Youth (&lt;25)</td>\n",
       "      <td>Male</td>\n",
       "      <td>United Kingdom</td>\n",
       "      <td>England</td>\n",
       "      <td>Bikes</td>\n",
       "      <td>Touring Bikes</td>\n",
       "      <td>Touring-2000 Blue, 46</td>\n",
       "      <td>1</td>\n",
       "      <td>755.0</td>\n",
       "      <td>1215.0</td>\n",
       "      <td>460.0</td>\n",
       "      <td>755.0</td>\n",
       "      <td>1215.0</td>\n",
       "    </tr>\n",
       "    <tr>\n",
       "      <th>112167</th>\n",
       "      <td>April</td>\n",
       "      <td>2014</td>\n",
       "      <td>28.0</td>\n",
       "      <td>Young Adults (25-34)</td>\n",
       "      <td>Male</td>\n",
       "      <td>United Kingdom</td>\n",
       "      <td>England</td>\n",
       "      <td>Clothing</td>\n",
       "      <td>Vests</td>\n",
       "      <td>Classic Vest, S</td>\n",
       "      <td>19</td>\n",
       "      <td>24.0</td>\n",
       "      <td>64.0</td>\n",
       "      <td>760.0</td>\n",
       "      <td>456.0</td>\n",
       "      <td>1216.0</td>\n",
       "    </tr>\n",
       "    <tr>\n",
       "      <th>112168</th>\n",
       "      <td>April</td>\n",
       "      <td>2016</td>\n",
       "      <td>28.0</td>\n",
       "      <td>Young Adults (25-34)</td>\n",
       "      <td>Male</td>\n",
       "      <td>United Kingdom</td>\n",
       "      <td>England</td>\n",
       "      <td>Clothing</td>\n",
       "      <td>Vests</td>\n",
       "      <td>Classic Vest, S</td>\n",
       "      <td>17</td>\n",
       "      <td>24.0</td>\n",
       "      <td>64.0</td>\n",
       "      <td>680.0</td>\n",
       "      <td>408.0</td>\n",
       "      <td>1088.0</td>\n",
       "    </tr>\n",
       "    <tr>\n",
       "      <th>112969</th>\n",
       "      <td>March</td>\n",
       "      <td>2014</td>\n",
       "      <td>30.0</td>\n",
       "      <td>Young Adults (25-34)</td>\n",
       "      <td>Male</td>\n",
       "      <td>Australia</td>\n",
       "      <td>Queensland</td>\n",
       "      <td>Clothing</td>\n",
       "      <td>Vests</td>\n",
       "      <td>Classic Vest, M</td>\n",
       "      <td>11</td>\n",
       "      <td>24.0</td>\n",
       "      <td>64.0</td>\n",
       "      <td>440.0</td>\n",
       "      <td>264.0</td>\n",
       "      <td>704.0</td>\n",
       "    </tr>\n",
       "  </tbody>\n",
       "</table>\n",
       "<p>6224 rows × 16 columns</p>\n",
       "</div>"
      ],
      "text/plain": [
       "            Month  Year  Customer_Age             Age_Group Customer_Gender  \\\n",
       "309     September  2015          33.0  Young Adults (25-34)            Male   \n",
       "1021     December  2013          22.0           Youth (<25)            Male   \n",
       "1091    September  2015          42.0        Adults (35-64)          Female   \n",
       "1093      October  2013          42.0        Adults (35-64)          Female   \n",
       "1095      October  2015          42.0        Adults (35-64)          Female   \n",
       "...           ...   ...           ...                   ...             ...   \n",
       "112028       June  2016          32.0  Young Adults (25-34)            Male   \n",
       "112047    October  2013          22.0           Youth (<25)            Male   \n",
       "112167      April  2014          28.0  Young Adults (25-34)            Male   \n",
       "112168      April  2016          28.0  Young Adults (25-34)            Male   \n",
       "112969      March  2014          30.0  Young Adults (25-34)            Male   \n",
       "\n",
       "               Country             State Product_Category       Sub_Category  \\\n",
       "309             Canada  British Columbia      Accessories         Bike Racks   \n",
       "1021         Australia   New South Wales      Accessories        Bike Stands   \n",
       "1091         Australia          Victoria      Accessories  Bottles and Cages   \n",
       "1093         Australia          Victoria      Accessories  Bottles and Cages   \n",
       "1095         Australia          Victoria      Accessories  Bottles and Cages   \n",
       "...                ...               ...              ...                ...   \n",
       "112028         Germany           Hamburg            Bikes      Touring Bikes   \n",
       "112047  United Kingdom           England            Bikes      Touring Bikes   \n",
       "112167  United Kingdom           England         Clothing              Vests   \n",
       "112168  United Kingdom           England         Clothing              Vests   \n",
       "112969       Australia        Queensland         Clothing              Vests   \n",
       "\n",
       "                        Product  Order_Quantity  Unit_Cost  Unit_Price  \\\n",
       "309         Hitch Rack - 4-Bike               2       45.0       120.0   \n",
       "1021     All-Purpose Bike Stand               9       59.0       159.0   \n",
       "1091       Mountain Bottle Cage               5        4.0        10.0   \n",
       "1093       Mountain Bottle Cage               2        4.0        10.0   \n",
       "1095       Mountain Bottle Cage               1        4.0        10.0   \n",
       "...                         ...             ...        ...         ...   \n",
       "112028  Touring-3000 Yellow, 50               1      461.0       742.0   \n",
       "112047    Touring-2000 Blue, 46               1      755.0      1215.0   \n",
       "112167          Classic Vest, S              19       24.0        64.0   \n",
       "112168          Classic Vest, S              17       24.0        64.0   \n",
       "112969          Classic Vest, M              11       24.0        64.0   \n",
       "\n",
       "        Profit   Cost  Revenue  \n",
       "309      150.0   90.0    240.0  \n",
       "1021     900.0  531.0   1431.0  \n",
       "1091      30.0   20.0     50.0  \n",
       "1093      12.0    8.0     20.0  \n",
       "1095       6.0    4.0     10.0  \n",
       "...        ...    ...      ...  \n",
       "112028   281.0  461.0    742.0  \n",
       "112047   460.0  755.0   1215.0  \n",
       "112167   760.0  456.0   1216.0  \n",
       "112168   680.0  408.0   1088.0  \n",
       "112969   440.0  264.0    704.0  \n",
       "\n",
       "[6224 rows x 16 columns]"
      ]
     },
     "execution_count": 15,
     "metadata": {},
     "output_type": "execute_result"
    }
   ],
   "source": [
    "#Finding duplicate rows\n",
    "duplicate_row = sales_data_na[sales_data_na.duplicated(keep = 'first')]\n",
    " \n",
    "print(\"Duplicate Rows :\")\n",
    "duplicate_row"
   ]
  },
  {
   "cell_type": "code",
   "execution_count": 16,
   "id": "f78c841d",
   "metadata": {},
   "outputs": [
    {
     "name": "stdout",
     "output_type": "stream",
     "text": [
      "(106807, 16)\n"
     ]
    }
   ],
   "source": [
    "# Remove duplicated row\n",
    "sales_data_na.drop_duplicates(inplace = True)\n",
    "\n",
    "# Print the shape\n",
    "print(sales_data_na.shape)"
   ]
  },
  {
   "cell_type": "markdown",
   "id": "06b618f3",
   "metadata": {},
   "source": [
    "# 3.4 Untidy\n",
    "\n",
    "   1. Make sure all data in in positive value\n",
    "   2. Convert to positive value\n",
    "   3. Change the data type"
   ]
  },
  {
   "cell_type": "code",
   "execution_count": 17,
   "id": "30b4fe01",
   "metadata": {},
   "outputs": [
    {
     "data": {
      "text/html": [
       "<div>\n",
       "<style scoped>\n",
       "    .dataframe tbody tr th:only-of-type {\n",
       "        vertical-align: middle;\n",
       "    }\n",
       "\n",
       "    .dataframe tbody tr th {\n",
       "        vertical-align: top;\n",
       "    }\n",
       "\n",
       "    .dataframe thead th {\n",
       "        text-align: right;\n",
       "    }\n",
       "</style>\n",
       "<table border=\"1\" class=\"dataframe\">\n",
       "  <thead>\n",
       "    <tr style=\"text-align: right;\">\n",
       "      <th></th>\n",
       "      <th>Year</th>\n",
       "      <th>Customer_Age</th>\n",
       "      <th>Order_Quantity</th>\n",
       "      <th>Unit_Cost</th>\n",
       "      <th>Unit_Price</th>\n",
       "      <th>Profit</th>\n",
       "      <th>Cost</th>\n",
       "      <th>Revenue</th>\n",
       "    </tr>\n",
       "  </thead>\n",
       "  <tbody>\n",
       "    <tr>\n",
       "      <th>count</th>\n",
       "      <td>106807.000000</td>\n",
       "      <td>106807.000000</td>\n",
       "      <td>106807.00000</td>\n",
       "      <td>106807.000000</td>\n",
       "      <td>106807.000000</td>\n",
       "      <td>106807.000000</td>\n",
       "      <td>106807.000000</td>\n",
       "      <td>106807.000000</td>\n",
       "    </tr>\n",
       "    <tr>\n",
       "      <th>mean</th>\n",
       "      <td>2014.421620</td>\n",
       "      <td>35.998268</td>\n",
       "      <td>12.26061</td>\n",
       "      <td>240.389731</td>\n",
       "      <td>407.805593</td>\n",
       "      <td>358.503469</td>\n",
       "      <td>444.099778</td>\n",
       "      <td>802.603247</td>\n",
       "    </tr>\n",
       "    <tr>\n",
       "      <th>std</th>\n",
       "      <td>1.265451</td>\n",
       "      <td>11.107585</td>\n",
       "      <td>10.19217</td>\n",
       "      <td>525.342733</td>\n",
       "      <td>880.939417</td>\n",
       "      <td>640.422843</td>\n",
       "      <td>871.102148</td>\n",
       "      <td>1466.689422</td>\n",
       "    </tr>\n",
       "    <tr>\n",
       "      <th>min</th>\n",
       "      <td>2011.000000</td>\n",
       "      <td>17.000000</td>\n",
       "      <td>1.00000</td>\n",
       "      <td>1.000000</td>\n",
       "      <td>2.000000</td>\n",
       "      <td>1.000000</td>\n",
       "      <td>1.000000</td>\n",
       "      <td>2.000000</td>\n",
       "    </tr>\n",
       "    <tr>\n",
       "      <th>25%</th>\n",
       "      <td>2013.000000</td>\n",
       "      <td>28.000000</td>\n",
       "      <td>3.00000</td>\n",
       "      <td>2.000000</td>\n",
       "      <td>5.000000</td>\n",
       "      <td>36.000000</td>\n",
       "      <td>27.000000</td>\n",
       "      <td>70.000000</td>\n",
       "    </tr>\n",
       "    <tr>\n",
       "      <th>50%</th>\n",
       "      <td>2014.000000</td>\n",
       "      <td>35.000000</td>\n",
       "      <td>11.00000</td>\n",
       "      <td>9.000000</td>\n",
       "      <td>24.000000</td>\n",
       "      <td>126.000000</td>\n",
       "      <td>99.000000</td>\n",
       "      <td>231.000000</td>\n",
       "    </tr>\n",
       "    <tr>\n",
       "      <th>75%</th>\n",
       "      <td>2016.000000</td>\n",
       "      <td>43.000000</td>\n",
       "      <td>20.00000</td>\n",
       "      <td>38.000000</td>\n",
       "      <td>55.000000</td>\n",
       "      <td>407.000000</td>\n",
       "      <td>380.000000</td>\n",
       "      <td>810.000000</td>\n",
       "    </tr>\n",
       "    <tr>\n",
       "      <th>max</th>\n",
       "      <td>2016.000000</td>\n",
       "      <td>87.000000</td>\n",
       "      <td>1200.00000</td>\n",
       "      <td>2171.000000</td>\n",
       "      <td>3578.000000</td>\n",
       "      <td>83688.000000</td>\n",
       "      <td>42978.000000</td>\n",
       "      <td>84000.000000</td>\n",
       "    </tr>\n",
       "  </tbody>\n",
       "</table>\n",
       "</div>"
      ],
      "text/plain": [
       "                Year   Customer_Age  Order_Quantity      Unit_Cost  \\\n",
       "count  106807.000000  106807.000000    106807.00000  106807.000000   \n",
       "mean     2014.421620      35.998268        12.26061     240.389731   \n",
       "std         1.265451      11.107585        10.19217     525.342733   \n",
       "min      2011.000000      17.000000         1.00000       1.000000   \n",
       "25%      2013.000000      28.000000         3.00000       2.000000   \n",
       "50%      2014.000000      35.000000        11.00000       9.000000   \n",
       "75%      2016.000000      43.000000        20.00000      38.000000   \n",
       "max      2016.000000      87.000000      1200.00000    2171.000000   \n",
       "\n",
       "          Unit_Price         Profit           Cost        Revenue  \n",
       "count  106807.000000  106807.000000  106807.000000  106807.000000  \n",
       "mean      407.805593     358.503469     444.099778     802.603247  \n",
       "std       880.939417     640.422843     871.102148    1466.689422  \n",
       "min         2.000000       1.000000       1.000000       2.000000  \n",
       "25%         5.000000      36.000000      27.000000      70.000000  \n",
       "50%        24.000000     126.000000      99.000000     231.000000  \n",
       "75%        55.000000     407.000000     380.000000     810.000000  \n",
       "max      3578.000000   83688.000000   42978.000000   84000.000000  "
      ]
     },
     "execution_count": 17,
     "metadata": {},
     "output_type": "execute_result"
    }
   ],
   "source": [
    "# Print the summary statistics on the variables\n",
    "sales_data_na.describe()"
   ]
  },
  {
   "cell_type": "code",
   "execution_count": 18,
   "id": "d8fe6087",
   "metadata": {
    "scrolled": true
   },
   "outputs": [
    {
     "name": "stdout",
     "output_type": "stream",
     "text": [
      "Month               object\n",
      "Year                 int64\n",
      "Customer_Age         int64\n",
      "Age_Group           object\n",
      "Customer_Gender     object\n",
      "Country             object\n",
      "State               object\n",
      "Product_Category    object\n",
      "Sub_Category        object\n",
      "Product             object\n",
      "Order_Quantity       int64\n",
      "Unit_Cost            int64\n",
      "Unit_Price           int64\n",
      "Profit               int64\n",
      "Cost                 int64\n",
      "Revenue              int64\n",
      "dtype: object\n"
     ]
    }
   ],
   "source": [
    "# change float to int\n",
    "sales_data_na['Customer_Age'] = sales_data_na['Customer_Age'].astype('Int64')\n",
    "sales_data_na = sales_data_na.astype({\"Customer_Age\":'int64', \"Unit_Cost\":'int64',\"Unit_Price\":'int64',\n",
    "                                      \"Profit\":'int64',\"Cost\":'int64',\"Revenue\":'int64'})\n",
    "\n",
    "# Print .dtypes\n",
    "print(sales_data_na.dtypes)"
   ]
  },
  {
   "cell_type": "code",
   "execution_count": 19,
   "id": "a4bd3350",
   "metadata": {
    "scrolled": false
   },
   "outputs": [
    {
     "data": {
      "text/plain": [
       "June         10499\n",
       "December     10494\n",
       "May          10397\n",
       "April         9587\n",
       "March         9141\n",
       "January       8768\n",
       "February      8579\n",
       "October       8344\n",
       "November      8249\n",
       "August        7814\n",
       "September     7797\n",
       "July          7131\n",
       "Jone             3\n",
       "Aogust           2\n",
       "Joly             1\n",
       "Marsh            1\n",
       "Name: Month, dtype: int64"
      ]
     },
     "execution_count": 19,
     "metadata": {},
     "output_type": "execute_result"
    }
   ],
   "source": [
    "# Check Month column\n",
    "sales_data_na['Month'].value_counts()"
   ]
  },
  {
   "cell_type": "code",
   "execution_count": 20,
   "id": "5c02ebed",
   "metadata": {},
   "outputs": [
    {
     "data": {
      "text/html": [
       "<div>\n",
       "<style scoped>\n",
       "    .dataframe tbody tr th:only-of-type {\n",
       "        vertical-align: middle;\n",
       "    }\n",
       "\n",
       "    .dataframe tbody tr th {\n",
       "        vertical-align: top;\n",
       "    }\n",
       "\n",
       "    .dataframe thead th {\n",
       "        text-align: right;\n",
       "    }\n",
       "</style>\n",
       "<table border=\"1\" class=\"dataframe\">\n",
       "  <thead>\n",
       "    <tr style=\"text-align: right;\">\n",
       "      <th></th>\n",
       "      <th>Month</th>\n",
       "      <th>Year</th>\n",
       "      <th>Customer_Age</th>\n",
       "      <th>Age_Group</th>\n",
       "      <th>Customer_Gender</th>\n",
       "      <th>Country</th>\n",
       "      <th>State</th>\n",
       "      <th>Product_Category</th>\n",
       "      <th>Sub_Category</th>\n",
       "      <th>Product</th>\n",
       "      <th>Order_Quantity</th>\n",
       "      <th>Unit_Cost</th>\n",
       "      <th>Unit_Price</th>\n",
       "      <th>Profit</th>\n",
       "      <th>Cost</th>\n",
       "      <th>Revenue</th>\n",
       "    </tr>\n",
       "  </thead>\n",
       "  <tbody>\n",
       "    <tr>\n",
       "      <th>108</th>\n",
       "      <td>Aogust</td>\n",
       "      <td>2013</td>\n",
       "      <td>42</td>\n",
       "      <td>Adults (35-64)</td>\n",
       "      <td>Male</td>\n",
       "      <td>United States</td>\n",
       "      <td>Oregon</td>\n",
       "      <td>Accessories</td>\n",
       "      <td>Bike Racks</td>\n",
       "      <td>Hitch Rack - 4-Bike</td>\n",
       "      <td>17</td>\n",
       "      <td>45</td>\n",
       "      <td>120</td>\n",
       "      <td>1275</td>\n",
       "      <td>765</td>\n",
       "      <td>2040</td>\n",
       "    </tr>\n",
       "    <tr>\n",
       "      <th>148</th>\n",
       "      <td>Marsh</td>\n",
       "      <td>2014</td>\n",
       "      <td>33</td>\n",
       "      <td>Young Adults (25-34)</td>\n",
       "      <td>Male</td>\n",
       "      <td>Australia</td>\n",
       "      <td>Queensland</td>\n",
       "      <td>Accessories</td>\n",
       "      <td>Bike Racks</td>\n",
       "      <td>Hitch Rack - 4-Bike</td>\n",
       "      <td>8</td>\n",
       "      <td>45</td>\n",
       "      <td>120</td>\n",
       "      <td>600</td>\n",
       "      <td>360</td>\n",
       "      <td>960</td>\n",
       "    </tr>\n",
       "    <tr>\n",
       "      <th>176</th>\n",
       "      <td>Jone</td>\n",
       "      <td>2014</td>\n",
       "      <td>55</td>\n",
       "      <td>Adults (35-64)</td>\n",
       "      <td>Male</td>\n",
       "      <td>United States</td>\n",
       "      <td>Washington</td>\n",
       "      <td>Accessories</td>\n",
       "      <td>Bike Racks</td>\n",
       "      <td>Hitch Rack - 4-Bike</td>\n",
       "      <td>9</td>\n",
       "      <td>45</td>\n",
       "      <td>120</td>\n",
       "      <td>675</td>\n",
       "      <td>405</td>\n",
       "      <td>1080</td>\n",
       "    </tr>\n",
       "    <tr>\n",
       "      <th>177</th>\n",
       "      <td>Jone</td>\n",
       "      <td>2016</td>\n",
       "      <td>55</td>\n",
       "      <td>Adults (35-64)</td>\n",
       "      <td>Male</td>\n",
       "      <td>United States</td>\n",
       "      <td>Washington</td>\n",
       "      <td>Accessories</td>\n",
       "      <td>Bike Racks</td>\n",
       "      <td>Hitch Rack - 4-Bike</td>\n",
       "      <td>6</td>\n",
       "      <td>45</td>\n",
       "      <td>120</td>\n",
       "      <td>450</td>\n",
       "      <td>270</td>\n",
       "      <td>720</td>\n",
       "    </tr>\n",
       "    <tr>\n",
       "      <th>178</th>\n",
       "      <td>Jone</td>\n",
       "      <td>2014</td>\n",
       "      <td>55</td>\n",
       "      <td>Adults (35-64)</td>\n",
       "      <td>Male</td>\n",
       "      <td>United States</td>\n",
       "      <td>Oregon</td>\n",
       "      <td>Accessories</td>\n",
       "      <td>Bike Racks</td>\n",
       "      <td>Hitch Rack - 4-Bike</td>\n",
       "      <td>15</td>\n",
       "      <td>45</td>\n",
       "      <td>120</td>\n",
       "      <td>1125</td>\n",
       "      <td>675</td>\n",
       "      <td>1800</td>\n",
       "    </tr>\n",
       "    <tr>\n",
       "      <th>37838</th>\n",
       "      <td>Joly</td>\n",
       "      <td>2014</td>\n",
       "      <td>38</td>\n",
       "      <td>Adults (35-64)</td>\n",
       "      <td>Male</td>\n",
       "      <td>Canada</td>\n",
       "      <td>British Columbia</td>\n",
       "      <td>Accessories</td>\n",
       "      <td>Helmets</td>\n",
       "      <td>Sport-100 Helmet, Red</td>\n",
       "      <td>23</td>\n",
       "      <td>13</td>\n",
       "      <td>35</td>\n",
       "      <td>506</td>\n",
       "      <td>299</td>\n",
       "      <td>805</td>\n",
       "    </tr>\n",
       "    <tr>\n",
       "      <th>37851</th>\n",
       "      <td>Aogust</td>\n",
       "      <td>2015</td>\n",
       "      <td>31</td>\n",
       "      <td>Young Adults (25-34)</td>\n",
       "      <td>Male</td>\n",
       "      <td>Australia</td>\n",
       "      <td>Victoria</td>\n",
       "      <td>Accessories</td>\n",
       "      <td>Helmets</td>\n",
       "      <td>Sport-100 Helmet, Red</td>\n",
       "      <td>3</td>\n",
       "      <td>13</td>\n",
       "      <td>35</td>\n",
       "      <td>66</td>\n",
       "      <td>39</td>\n",
       "      <td>105</td>\n",
       "    </tr>\n",
       "  </tbody>\n",
       "</table>\n",
       "</div>"
      ],
      "text/plain": [
       "        Month  Year  Customer_Age             Age_Group Customer_Gender  \\\n",
       "108    Aogust  2013            42        Adults (35-64)            Male   \n",
       "148     Marsh  2014            33  Young Adults (25-34)            Male   \n",
       "176      Jone  2014            55        Adults (35-64)            Male   \n",
       "177      Jone  2016            55        Adults (35-64)            Male   \n",
       "178      Jone  2014            55        Adults (35-64)            Male   \n",
       "37838    Joly  2014            38        Adults (35-64)            Male   \n",
       "37851  Aogust  2015            31  Young Adults (25-34)            Male   \n",
       "\n",
       "             Country             State Product_Category Sub_Category  \\\n",
       "108    United States            Oregon      Accessories   Bike Racks   \n",
       "148        Australia        Queensland      Accessories   Bike Racks   \n",
       "176    United States        Washington      Accessories   Bike Racks   \n",
       "177    United States        Washington      Accessories   Bike Racks   \n",
       "178    United States            Oregon      Accessories   Bike Racks   \n",
       "37838         Canada  British Columbia      Accessories      Helmets   \n",
       "37851      Australia          Victoria      Accessories      Helmets   \n",
       "\n",
       "                     Product  Order_Quantity  Unit_Cost  Unit_Price  Profit  \\\n",
       "108      Hitch Rack - 4-Bike              17         45         120    1275   \n",
       "148      Hitch Rack - 4-Bike               8         45         120     600   \n",
       "176      Hitch Rack - 4-Bike               9         45         120     675   \n",
       "177      Hitch Rack - 4-Bike               6         45         120     450   \n",
       "178      Hitch Rack - 4-Bike              15         45         120    1125   \n",
       "37838  Sport-100 Helmet, Red              23         13          35     506   \n",
       "37851  Sport-100 Helmet, Red               3         13          35      66   \n",
       "\n",
       "       Cost  Revenue  \n",
       "108     765     2040  \n",
       "148     360      960  \n",
       "176     405     1080  \n",
       "177     270      720  \n",
       "178     675     1800  \n",
       "37838   299      805  \n",
       "37851    39      105  "
      ]
     },
     "execution_count": 20,
     "metadata": {},
     "output_type": "execute_result"
    }
   ],
   "source": [
    "# Select the wrong spelling Month variable\n",
    "\n",
    "wrong_month  = ['Jone', 'Aogust', 'Joly','Marsh']\n",
    " \n",
    "sales_data_na[sales_data_na.Month.isin(wrong_month)]"
   ]
  },
  {
   "cell_type": "code",
   "execution_count": 21,
   "id": "273a5cbf",
   "metadata": {},
   "outputs": [],
   "source": [
    "# Replace the wrong name with new value \n",
    "sales_data_na['Month'] = sales_data_na['Month'].replace(['Aogust', 'Marsh','Jone','Joly'], ['August', 'March','June','July'])"
   ]
  },
  {
   "cell_type": "markdown",
   "id": "75fd35ee",
   "metadata": {},
   "source": [
    "# 3.5 Outliers\n",
    "\n",
    "   1. Find for outliers using IQR \n",
    "   2. Plot a boxplot for visualization\n",
    "   3. Remove / Keep the outliers"
   ]
  },
  {
   "cell_type": "code",
   "execution_count": 22,
   "id": "bc28d6bc",
   "metadata": {
    "scrolled": false
   },
   "outputs": [
    {
     "name": "stdout",
     "output_type": "stream",
     "text": [
      "Year                3.0\n",
      "Customer_Age       15.0\n",
      "Order_Quantity     17.0\n",
      "Unit_Cost          36.0\n",
      "Unit_Price         50.0\n",
      "Profit            371.0\n",
      "Cost              353.0\n",
      "Revenue           740.0\n",
      "dtype: float64\n"
     ]
    },
    {
     "data": {
      "text/html": [
       "<div>\n",
       "<style scoped>\n",
       "    .dataframe tbody tr th:only-of-type {\n",
       "        vertical-align: middle;\n",
       "    }\n",
       "\n",
       "    .dataframe tbody tr th {\n",
       "        vertical-align: top;\n",
       "    }\n",
       "\n",
       "    .dataframe thead th {\n",
       "        text-align: right;\n",
       "    }\n",
       "</style>\n",
       "<table border=\"1\" class=\"dataframe\">\n",
       "  <thead>\n",
       "    <tr style=\"text-align: right;\">\n",
       "      <th></th>\n",
       "      <th>Month</th>\n",
       "      <th>Year</th>\n",
       "      <th>Customer_Age</th>\n",
       "      <th>Age_Group</th>\n",
       "      <th>Customer_Gender</th>\n",
       "      <th>Country</th>\n",
       "      <th>State</th>\n",
       "      <th>Product_Category</th>\n",
       "      <th>Sub_Category</th>\n",
       "      <th>Product</th>\n",
       "      <th>Order_Quantity</th>\n",
       "      <th>Unit_Cost</th>\n",
       "      <th>Unit_Price</th>\n",
       "      <th>Profit</th>\n",
       "      <th>Cost</th>\n",
       "      <th>Revenue</th>\n",
       "    </tr>\n",
       "  </thead>\n",
       "  <tbody>\n",
       "    <tr>\n",
       "      <th>3</th>\n",
       "      <td>NaN</td>\n",
       "      <td>NaN</td>\n",
       "      <td>NaN</td>\n",
       "      <td>NaN</td>\n",
       "      <td>NaN</td>\n",
       "      <td>NaN</td>\n",
       "      <td>NaN</td>\n",
       "      <td>NaN</td>\n",
       "      <td>NaN</td>\n",
       "      <td>NaN</td>\n",
       "      <td>NaN</td>\n",
       "      <td>NaN</td>\n",
       "      <td>NaN</td>\n",
       "      <td>1500.0</td>\n",
       "      <td>NaN</td>\n",
       "      <td>2400.0</td>\n",
       "    </tr>\n",
       "    <tr>\n",
       "      <th>4</th>\n",
       "      <td>NaN</td>\n",
       "      <td>NaN</td>\n",
       "      <td>NaN</td>\n",
       "      <td>NaN</td>\n",
       "      <td>NaN</td>\n",
       "      <td>NaN</td>\n",
       "      <td>NaN</td>\n",
       "      <td>NaN</td>\n",
       "      <td>NaN</td>\n",
       "      <td>NaN</td>\n",
       "      <td>NaN</td>\n",
       "      <td>NaN</td>\n",
       "      <td>NaN</td>\n",
       "      <td>NaN</td>\n",
       "      <td>NaN</td>\n",
       "      <td>NaN</td>\n",
       "    </tr>\n",
       "    <tr>\n",
       "      <th>5</th>\n",
       "      <td>NaN</td>\n",
       "      <td>NaN</td>\n",
       "      <td>NaN</td>\n",
       "      <td>NaN</td>\n",
       "      <td>NaN</td>\n",
       "      <td>NaN</td>\n",
       "      <td>NaN</td>\n",
       "      <td>NaN</td>\n",
       "      <td>NaN</td>\n",
       "      <td>NaN</td>\n",
       "      <td>NaN</td>\n",
       "      <td>NaN</td>\n",
       "      <td>NaN</td>\n",
       "      <td>NaN</td>\n",
       "      <td>NaN</td>\n",
       "      <td>NaN</td>\n",
       "    </tr>\n",
       "    <tr>\n",
       "      <th>6</th>\n",
       "      <td>NaN</td>\n",
       "      <td>NaN</td>\n",
       "      <td>NaN</td>\n",
       "      <td>NaN</td>\n",
       "      <td>NaN</td>\n",
       "      <td>NaN</td>\n",
       "      <td>NaN</td>\n",
       "      <td>NaN</td>\n",
       "      <td>NaN</td>\n",
       "      <td>NaN</td>\n",
       "      <td>NaN</td>\n",
       "      <td>NaN</td>\n",
       "      <td>NaN</td>\n",
       "      <td>NaN</td>\n",
       "      <td>NaN</td>\n",
       "      <td>NaN</td>\n",
       "    </tr>\n",
       "    <tr>\n",
       "      <th>7</th>\n",
       "      <td>NaN</td>\n",
       "      <td>NaN</td>\n",
       "      <td>NaN</td>\n",
       "      <td>NaN</td>\n",
       "      <td>NaN</td>\n",
       "      <td>NaN</td>\n",
       "      <td>NaN</td>\n",
       "      <td>NaN</td>\n",
       "      <td>NaN</td>\n",
       "      <td>NaN</td>\n",
       "      <td>NaN</td>\n",
       "      <td>NaN</td>\n",
       "      <td>NaN</td>\n",
       "      <td>NaN</td>\n",
       "      <td>NaN</td>\n",
       "      <td>NaN</td>\n",
       "    </tr>\n",
       "    <tr>\n",
       "      <th>8</th>\n",
       "      <td>NaN</td>\n",
       "      <td>NaN</td>\n",
       "      <td>NaN</td>\n",
       "      <td>NaN</td>\n",
       "      <td>NaN</td>\n",
       "      <td>NaN</td>\n",
       "      <td>NaN</td>\n",
       "      <td>NaN</td>\n",
       "      <td>NaN</td>\n",
       "      <td>NaN</td>\n",
       "      <td>NaN</td>\n",
       "      <td>NaN</td>\n",
       "      <td>NaN</td>\n",
       "      <td>1650.0</td>\n",
       "      <td>990.0</td>\n",
       "      <td>2640.0</td>\n",
       "    </tr>\n",
       "    <tr>\n",
       "      <th>9</th>\n",
       "      <td>NaN</td>\n",
       "      <td>NaN</td>\n",
       "      <td>NaN</td>\n",
       "      <td>NaN</td>\n",
       "      <td>NaN</td>\n",
       "      <td>NaN</td>\n",
       "      <td>NaN</td>\n",
       "      <td>NaN</td>\n",
       "      <td>NaN</td>\n",
       "      <td>NaN</td>\n",
       "      <td>NaN</td>\n",
       "      <td>NaN</td>\n",
       "      <td>NaN</td>\n",
       "      <td>1575.0</td>\n",
       "      <td>945.0</td>\n",
       "      <td>2520.0</td>\n",
       "    </tr>\n",
       "    <tr>\n",
       "      <th>10</th>\n",
       "      <td>NaN</td>\n",
       "      <td>NaN</td>\n",
       "      <td>NaN</td>\n",
       "      <td>NaN</td>\n",
       "      <td>NaN</td>\n",
       "      <td>NaN</td>\n",
       "      <td>NaN</td>\n",
       "      <td>NaN</td>\n",
       "      <td>NaN</td>\n",
       "      <td>NaN</td>\n",
       "      <td>NaN</td>\n",
       "      <td>NaN</td>\n",
       "      <td>NaN</td>\n",
       "      <td>NaN</td>\n",
       "      <td>NaN</td>\n",
       "      <td>NaN</td>\n",
       "    </tr>\n",
       "    <tr>\n",
       "      <th>11</th>\n",
       "      <td>NaN</td>\n",
       "      <td>NaN</td>\n",
       "      <td>NaN</td>\n",
       "      <td>NaN</td>\n",
       "      <td>NaN</td>\n",
       "      <td>NaN</td>\n",
       "      <td>NaN</td>\n",
       "      <td>NaN</td>\n",
       "      <td>NaN</td>\n",
       "      <td>NaN</td>\n",
       "      <td>NaN</td>\n",
       "      <td>NaN</td>\n",
       "      <td>NaN</td>\n",
       "      <td>NaN</td>\n",
       "      <td>NaN</td>\n",
       "      <td>NaN</td>\n",
       "    </tr>\n",
       "    <tr>\n",
       "      <th>12</th>\n",
       "      <td>NaN</td>\n",
       "      <td>NaN</td>\n",
       "      <td>NaN</td>\n",
       "      <td>NaN</td>\n",
       "      <td>NaN</td>\n",
       "      <td>NaN</td>\n",
       "      <td>NaN</td>\n",
       "      <td>NaN</td>\n",
       "      <td>NaN</td>\n",
       "      <td>NaN</td>\n",
       "      <td>NaN</td>\n",
       "      <td>NaN</td>\n",
       "      <td>NaN</td>\n",
       "      <td>NaN</td>\n",
       "      <td>NaN</td>\n",
       "      <td>NaN</td>\n",
       "    </tr>\n",
       "  </tbody>\n",
       "</table>\n",
       "</div>"
      ],
      "text/plain": [
       "   Month  Year  Customer_Age Age_Group Customer_Gender Country State  \\\n",
       "3    NaN   NaN           NaN       NaN             NaN     NaN   NaN   \n",
       "4    NaN   NaN           NaN       NaN             NaN     NaN   NaN   \n",
       "5    NaN   NaN           NaN       NaN             NaN     NaN   NaN   \n",
       "6    NaN   NaN           NaN       NaN             NaN     NaN   NaN   \n",
       "7    NaN   NaN           NaN       NaN             NaN     NaN   NaN   \n",
       "8    NaN   NaN           NaN       NaN             NaN     NaN   NaN   \n",
       "9    NaN   NaN           NaN       NaN             NaN     NaN   NaN   \n",
       "10   NaN   NaN           NaN       NaN             NaN     NaN   NaN   \n",
       "11   NaN   NaN           NaN       NaN             NaN     NaN   NaN   \n",
       "12   NaN   NaN           NaN       NaN             NaN     NaN   NaN   \n",
       "\n",
       "   Product_Category Sub_Category Product  Order_Quantity  Unit_Cost  \\\n",
       "3               NaN          NaN     NaN             NaN        NaN   \n",
       "4               NaN          NaN     NaN             NaN        NaN   \n",
       "5               NaN          NaN     NaN             NaN        NaN   \n",
       "6               NaN          NaN     NaN             NaN        NaN   \n",
       "7               NaN          NaN     NaN             NaN        NaN   \n",
       "8               NaN          NaN     NaN             NaN        NaN   \n",
       "9               NaN          NaN     NaN             NaN        NaN   \n",
       "10              NaN          NaN     NaN             NaN        NaN   \n",
       "11              NaN          NaN     NaN             NaN        NaN   \n",
       "12              NaN          NaN     NaN             NaN        NaN   \n",
       "\n",
       "    Unit_Price  Profit   Cost  Revenue  \n",
       "3          NaN  1500.0    NaN   2400.0  \n",
       "4          NaN     NaN    NaN      NaN  \n",
       "5          NaN     NaN    NaN      NaN  \n",
       "6          NaN     NaN    NaN      NaN  \n",
       "7          NaN     NaN    NaN      NaN  \n",
       "8          NaN  1650.0  990.0   2640.0  \n",
       "9          NaN  1575.0  945.0   2520.0  \n",
       "10         NaN     NaN    NaN      NaN  \n",
       "11         NaN     NaN    NaN      NaN  \n",
       "12         NaN     NaN    NaN      NaN  "
      ]
     },
     "execution_count": 22,
     "metadata": {},
     "output_type": "execute_result"
    }
   ],
   "source": [
    "#IQR score\n",
    "\n",
    "Q1 = sales_data_na.quantile(0.25)\n",
    "Q3 = sales_data_na.quantile(0.75)\n",
    "\n",
    "IQR = Q3 - Q1\n",
    "\n",
    "# Print IQR for all column\n",
    "\n",
    "print(IQR)\n",
    "\n",
    "outliers = sales_data_na[((sales_data_na <(Q1-1.5*IQR)) | (sales_data_na >(Q3+1.5*IQR)))]\n",
    "\n",
    "# If the value is not an outlier, it will display as NaN (not a number):\n",
    "outliers.head(10)"
   ]
  },
  {
   "cell_type": "code",
   "execution_count": 23,
   "id": "7422a591",
   "metadata": {},
   "outputs": [
    {
     "data": {
      "image/png": "[encoded data removed]",
      "text/plain": [
       "<Figure size 1000x1000 with 8 Axes>"
      ]
     },
     "metadata": {},
     "output_type": "display_data"
    }
   ],
   "source": [
    "# Plot a box plot to visualize the outliers\n",
    "\n",
    "# 8 subplots in one row\n",
    "fig, ax = plt.subplots(1, 8, figsize=(10, 10))\n",
    "\n",
    "# draw boxplots - for one column in each subplot\n",
    "sales_data_na.boxplot('Year', ax=ax[0])\n",
    "sales_data_na.boxplot('Customer_Age', ax=ax[1])\n",
    "sales_data_na.boxplot('Order_Quantity', ax=ax[2])\n",
    "sales_data_na.boxplot('Unit_Cost', ax=ax[3])\n",
    "sales_data_na.boxplot('Unit_Price', ax=ax[4])\n",
    "sales_data_na.boxplot('Profit', ax=ax[5])\n",
    "sales_data_na.boxplot('Cost', ax=ax[6])\n",
    "sales_data_na.boxplot('Revenue', ax=ax[7])\n",
    "\n",
    "plt.subplots_adjust(wspace=0.5) \n",
    "\n",
    "plt.show()"
   ]
  },
  {
   "cell_type": "code",
   "execution_count": 24,
   "id": "a66cf24e",
   "metadata": {
    "scrolled": true
   },
   "outputs": [
    {
     "data": {
      "text/html": [
       "<div>\n",
       "<style scoped>\n",
       "    .dataframe tbody tr th:only-of-type {\n",
       "        vertical-align: middle;\n",
       "    }\n",
       "\n",
       "    .dataframe tbody tr th {\n",
       "        vertical-align: top;\n",
       "    }\n",
       "\n",
       "    .dataframe thead th {\n",
       "        text-align: right;\n",
       "    }\n",
       "</style>\n",
       "<table border=\"1\" class=\"dataframe\">\n",
       "  <thead>\n",
       "    <tr style=\"text-align: right;\">\n",
       "      <th></th>\n",
       "      <th>Month</th>\n",
       "      <th>Year</th>\n",
       "      <th>Customer_Age</th>\n",
       "      <th>Age_Group</th>\n",
       "      <th>Customer_Gender</th>\n",
       "      <th>Country</th>\n",
       "      <th>State</th>\n",
       "      <th>Product_Category</th>\n",
       "      <th>Sub_Category</th>\n",
       "      <th>Product</th>\n",
       "      <th>Order_Quantity</th>\n",
       "      <th>Unit_Cost</th>\n",
       "      <th>Unit_Price</th>\n",
       "      <th>Profit</th>\n",
       "      <th>Cost</th>\n",
       "      <th>Revenue</th>\n",
       "    </tr>\n",
       "  </thead>\n",
       "  <tbody>\n",
       "    <tr>\n",
       "      <th>72770</th>\n",
       "      <td>March</td>\n",
       "      <td>2016</td>\n",
       "      <td>47</td>\n",
       "      <td>Adults (35-64)</td>\n",
       "      <td>Male</td>\n",
       "      <td>United States</td>\n",
       "      <td>California</td>\n",
       "      <td>Clothing</td>\n",
       "      <td>Shorts</td>\n",
       "      <td>Women's Mountain Shorts, S</td>\n",
       "      <td>1200</td>\n",
       "      <td>26</td>\n",
       "      <td>70</td>\n",
       "      <td>83688</td>\n",
       "      <td>312</td>\n",
       "      <td>84000</td>\n",
       "    </tr>\n",
       "  </tbody>\n",
       "</table>\n",
       "</div>"
      ],
      "text/plain": [
       "       Month  Year  Customer_Age       Age_Group Customer_Gender  \\\n",
       "72770  March  2016            47  Adults (35-64)            Male   \n",
       "\n",
       "             Country       State Product_Category Sub_Category  \\\n",
       "72770  United States  California         Clothing       Shorts   \n",
       "\n",
       "                          Product  Order_Quantity  Unit_Cost  Unit_Price  \\\n",
       "72770  Women's Mountain Shorts, S            1200         26          70   \n",
       "\n",
       "       Profit  Cost  Revenue  \n",
       "72770   83688   312    84000  "
      ]
     },
     "execution_count": 24,
     "metadata": {},
     "output_type": "execute_result"
    }
   ],
   "source": [
    "#IQR score for Order_Quantity\n",
    "Q1 = sales_data_na['Order_Quantity'].quantile(0.25)\n",
    "Q3 = sales_data_na['Order_Quantity'].quantile(0.75)\n",
    "\n",
    "IQR = Q3 - Q1\n",
    "\n",
    "upper_limit = Q3 + (1.5 * IQR)\n",
    "lower_limit = Q1 - (1.5 * IQR)\n",
    "lower_limit,upper_limit\n",
    "\n",
    "# find the outliers in Order_Quantity column\n",
    "sales_data_na.loc[(sales_data_na['Order_Quantity'] > upper_limit) |(sales_data_na['Order_Quantity'] < lower_limit)]"
   ]
  },
  {
   "cell_type": "code",
   "execution_count": 25,
   "id": "619e8b79",
   "metadata": {},
   "outputs": [
    {
     "name": "stdout",
     "output_type": "stream",
     "text": [
      "before removing the Unit Price outliers: 106807\n",
      "after removing the Unit Price outliers: 106806\n",
      "outliers: 1\n"
     ]
    }
   ],
   "source": [
    "# trimming - delete the outliers data for Order_Quantity\n",
    "\n",
    "new_sales_data_na = sales_data_na.loc[(sales_data_na['Order_Quantity'] < upper_limit) & (sales_data_na['Order_Quantity'] > lower_limit)]\n",
    "print('before removing the Unit Price outliers:', len(sales_data_na))\n",
    "print('after removing the Unit Price outliers:', len(new_sales_data_na))\n",
    "print('outliers:', len(sales_data_na) - len(new_sales_data_na))"
   ]
  },
  {
   "cell_type": "markdown",
   "id": "89fa712f",
   "metadata": {},
   "source": [
    "# Part 4 : Data Visualization\n",
    "   1. Import matplotlib\n",
    "   2. Plot various chart for data visualization\n",
    "   3. Find the relationship between the variable"
   ]
  },
  {
   "cell_type": "code",
   "execution_count": 26,
   "id": "b55a60c8",
   "metadata": {},
   "outputs": [
    {
     "data": {
      "text/plain": [
       "<matplotlib.axes._subplots.AxesSubplot at 0x15df1ce48d0>"
      ]
     },
     "execution_count": 26,
     "metadata": {},
     "output_type": "execute_result"
    },
    {
     "data": {
      "image/png": "[encoded data removed]",
      "text/plain": [
       "<Figure size 1000x500 with 1 Axes>"
      ]
     },
     "metadata": {},
     "output_type": "display_data"
    }
   ],
   "source": [
    "# customer age histogram\n",
    "\n",
    "new_sales_data_na['Customer_Age'].plot(kind='hist', figsize=(10,5),alpha = 0.5, xlabel ='Number of customer') "
   ]
  },
  {
   "cell_type": "code",
   "execution_count": 27,
   "id": "650d2395",
   "metadata": {},
   "outputs": [
    {
     "data": {
      "text/plain": [
       "Adults (35-64)          52982\n",
       "Young Adults (25-34)    36077\n",
       "Youth (<25)             17030\n",
       "Seniors (64+)             717\n",
       "Name: Age_Group, dtype: int64"
      ]
     },
     "execution_count": 27,
     "metadata": {},
     "output_type": "execute_result"
    }
   ],
   "source": [
    "# Select the Age_Group variable using counts() function\n",
    "new_sales_data_na['Age_Group'].value_counts()"
   ]
  },
  {
   "cell_type": "code",
   "execution_count": 28,
   "id": "78b8a352",
   "metadata": {},
   "outputs": [
    {
     "data": {
      "image/png": "[encoded data removed]",
      "text/plain": [
       "<Figure size 640x480 with 1 Axes>"
      ]
     },
     "metadata": {},
     "output_type": "display_data"
    }
   ],
   "source": [
    "import matplotlib.pyplot as plt\n",
    "import numpy as np\n",
    "\n",
    "new_sales_data_na['Age_Group'].value_counts().plot(kind = \"pie\",autopct='%.0f%%',title = 'Age Distribution', ylabel='')\n",
    "\n",
    "plt.show() "
   ]
  },
  {
   "cell_type": "code",
   "execution_count": 29,
   "id": "af649a4d",
   "metadata": {},
   "outputs": [
    {
     "data": {
      "text/plain": [
       "2011     2473\n",
       "2012     2191\n",
       "2013    22883\n",
       "2014    27745\n",
       "2015    23314\n",
       "2016    28200\n",
       "Name: Year, dtype: int64"
      ]
     },
     "execution_count": 29,
     "metadata": {},
     "output_type": "execute_result"
    }
   ],
   "source": [
    "#sales per year\n",
    "new_sales_data_na[\"Year\"].value_counts().sort_index()"
   ]
  },
  {
   "cell_type": "code",
   "execution_count": 30,
   "id": "d94f8364",
   "metadata": {},
   "outputs": [
    {
     "data": {
      "text/plain": [
       "<matplotlib.axes._subplots.AxesSubplot at 0x15df5aaf518>"
      ]
     },
     "execution_count": 30,
     "metadata": {},
     "output_type": "execute_result"
    },
    {
     "data": {
      "image/png": "[encoded data removed]",
      "text/plain": [
       "<Figure size 800x800 with 1 Axes>"
      ]
     },
     "metadata": {},
     "output_type": "display_data"
    }
   ],
   "source": [
    "#pie chart sales per year\n",
    "sales_year = new_sales_data_na['Year'].value_counts().sort_index(ascending = False)\n",
    "sales_year.plot(kind='pie', figsize = (8,8), startangle = 90, autopct='%.0f%%')"
   ]
  },
  {
   "cell_type": "code",
   "execution_count": 31,
   "id": "0897dccc",
   "metadata": {
    "scrolled": true
   },
   "outputs": [
    {
     "name": "stdout",
     "output_type": "stream",
     "text": [
      "Year\n",
      "2015    9277542\n",
      "2016    8442164\n",
      "2013    6835476\n",
      "2014    6577261\n",
      "2011    3752951\n",
      "2012    3321598\n",
      "Name: Profit, dtype: int64\n"
     ]
    }
   ],
   "source": [
    "print(new_sales_data_na.groupby('Year').sum()['Profit'].sort_values(ascending = False))"
   ]
  },
  {
   "cell_type": "code",
   "execution_count": 32,
   "id": "7eda8fdb",
   "metadata": {},
   "outputs": [
    {
     "data": {
      "image/png": "[encoded data removed]",
      "text/plain": [
       "<Figure size 1000x500 with 1 Axes>"
      ]
     },
     "metadata": {},
     "output_type": "display_data"
    }
   ],
   "source": [
    "# Import matplotlib and pandas\n",
    "import matplotlib.pyplot as plt\n",
    "import pandas as pd\n",
    "\n",
    "# Create horizontal bar chart\n",
    "new_sales_data_na.groupby('Year').sum()['Profit'].sort_values(ascending = True).plot(kind = 'barh', color= 'green',alpha = 0.5, figsize = (10,5), title = 'Highest Profit of The Year', xlabel='Year')\n",
    "\n",
    "# Show the plot\n",
    "plt.show() "
   ]
  },
  {
   "cell_type": "code",
   "execution_count": 33,
   "id": "fbda6808",
   "metadata": {},
   "outputs": [
    {
     "data": {
      "text/plain": [
       "<matplotlib.axes._subplots.AxesSubplot at 0x15df5b8e940>"
      ]
     },
     "execution_count": 33,
     "metadata": {},
     "output_type": "execute_result"
    },
    {
     "data": {
      "image/png": "[encoded data removed]",
      "text/plain": [
       "<Figure size 700x700 with 1 Axes>"
      ]
     },
     "metadata": {},
     "output_type": "display_data"
    }
   ],
   "source": [
    "#sales per month bar plot\n",
    "new_sales_data_na[\"Month\"].value_counts().sort_values(ascending = False).plot(kind='pie', figsize = (7,7),autopct='%.0f%%',cmap='tab20')"
   ]
  },
  {
   "cell_type": "code",
   "execution_count": 34,
   "id": "d7c08d1c",
   "metadata": {},
   "outputs": [
    {
     "data": {
      "image/png": "[encoded data removed]",
      "text/plain": [
       "<Figure size 640x480 with 1 Axes>"
      ]
     },
     "metadata": {},
     "output_type": "display_data"
    }
   ],
   "source": [
    "# Import matplotlib and pandas\n",
    "import matplotlib.pyplot as plt\n",
    "import pandas as pd\n",
    "\n",
    "# Create histogram \n",
    "Profitable_month = new_sales_data_na.groupby('Month').sum()['Profit'].sort_values(ascending = False).head(5)\n",
    "plt.bar(Profitable_month.index,Profitable_month, alpha = 0.4, edgecolor='black')\n",
    "\n",
    "# Show the plot\n",
    "plt.show() "
   ]
  },
  {
   "cell_type": "code",
   "execution_count": 35,
   "id": "9c94ce7a",
   "metadata": {},
   "outputs": [
    {
     "data": {
      "text/plain": [
       "Customer_Gender\n",
       "Male      680136\n",
       "Female    628183\n",
       "Name: Order_Quantity, dtype: int64"
      ]
     },
     "execution_count": 35,
     "metadata": {},
     "output_type": "execute_result"
    }
   ],
   "source": [
    "new_sales_data_na.groupby('Customer_Gender').sum()['Order_Quantity'].sort_values(ascending = False)"
   ]
  },
  {
   "cell_type": "code",
   "execution_count": 36,
   "id": "76a4cad5",
   "metadata": {},
   "outputs": [
    {
     "data": {
      "image/png": "[encoded data removed]",
      "text/plain": [
       "<Figure size 1000x500 with 1 Axes>"
      ]
     },
     "metadata": {},
     "output_type": "display_data"
    }
   ],
   "source": [
    "# Import matplotlib and pandas\n",
    "import matplotlib.pyplot as plt\n",
    "import pandas as pd\n",
    "\n",
    "# Create pie chart\n",
    "new_sales_data_na.groupby('Customer_Gender').sum()['Order_Quantity'].sort_values(ascending = False).plot(kind = 'pie',autopct='%.0f%%',cmap='tab20c',\n",
    "       figsize = (10,5), title = 'Order Quantity By Gender', ylabel='')\n",
    "\n",
    "# show plot\n",
    "plt.show()"
   ]
  },
  {
   "cell_type": "code",
   "execution_count": 37,
   "id": "4169a671",
   "metadata": {},
   "outputs": [
    {
     "data": {
      "image/png": "[encoded data removed]",
      "text/plain": [
       "<Figure size 640x480 with 1 Axes>"
      ]
     },
     "metadata": {},
     "output_type": "display_data"
    }
   ],
   "source": [
    "# Import matplotlib and pandas\n",
    "import matplotlib.pyplot as plt\n",
    "import pandas as pd\n",
    "\n",
    "# Create histogram \n",
    "HighestcountryRevenue = new_sales_data_na.groupby('Country').sum()['Revenue'].sort_values(ascending = False).head(5)\n",
    "plt.bar(HighestcountryRevenue.index,HighestcountryRevenue, alpha = 0.4, color='maroon',width = 0.4)\n",
    "\n",
    "# Show the plot\n",
    "plt.show() "
   ]
  },
  {
   "cell_type": "code",
   "execution_count": 38,
   "id": "73c1e3c7",
   "metadata": {},
   "outputs": [
    {
     "data": {
      "image/png": "[encoded data removed]",
      "text/plain": [
       "<Figure size 640x480 with 1 Axes>"
      ]
     },
     "metadata": {},
     "output_type": "display_data"
    }
   ],
   "source": [
    "# Import matplotlib and pandas\n",
    "import matplotlib.pyplot as plt\n",
    "import pandas as pd\n",
    "\n",
    "# Create histogram \n",
    "HigheststateRevenue = new_sales_data_na.groupby('State').sum()['Revenue'].sort_values(ascending = False).head(5)\n",
    "plt.bar(HigheststateRevenue.index,HigheststateRevenue, alpha = 0.4, color='blue',width = 0.4)\n",
    "\n",
    "# Show the plot\n",
    "plt.show() "
   ]
  },
  {
   "cell_type": "code",
   "execution_count": 39,
   "id": "7ceead3e",
   "metadata": {},
   "outputs": [
    {
     "name": "stdout",
     "output_type": "stream",
     "text": [
      "Product_Category\n",
      "Bikes          24247113\n",
      "Accessories    10252378\n",
      "Clothing        3707501\n",
      "Name: Profit, dtype: int64\n"
     ]
    }
   ],
   "source": [
    "productCategory = new_sales_data_na.groupby('Product_Category').sum()['Profit'].sort_values(ascending = False)\n",
    "print(productCategory)"
   ]
  },
  {
   "cell_type": "code",
   "execution_count": 40,
   "id": "2849331c",
   "metadata": {
    "scrolled": false
   },
   "outputs": [
    {
     "data": {
      "image/png": "[encoded data removed]",
      "text/plain": [
       "<Figure size 640x480 with 1 Axes>"
      ]
     },
     "metadata": {},
     "output_type": "display_data"
    }
   ],
   "source": [
    "# Import matplotlib and pandas\n",
    "import matplotlib.pyplot as plt\n",
    "import pandas as pd\n",
    "\n",
    "# Create histogram \n",
    "Highestcategory = new_sales_data_na.groupby('Product_Category').sum()['Profit'].sort_values(ascending = False).head(5)\n",
    "plt.bar(Highestcategory.index,Highestcategory, alpha = 0.4, color='green',width = 0.4)\n",
    "plt.title('Profit by Category')\n",
    "\n",
    "# Show the plot\n",
    "plt.show() "
   ]
  },
  {
   "cell_type": "code",
   "execution_count": 41,
   "id": "f70d7415",
   "metadata": {},
   "outputs": [
    {
     "data": {
      "image/png": "[encoded data removed]",
      "text/plain": [
       "<Figure size 640x480 with 1 Axes>"
      ]
     },
     "metadata": {},
     "output_type": "display_data"
    }
   ],
   "source": [
    "# Import matplotlib and pandas\n",
    "import matplotlib.pyplot as plt\n",
    "import pandas as pd\n",
    "\n",
    "# Create histogram \n",
    "Highestsubcategory = new_sales_data_na.groupby('Sub_Category').sum()['Profit'].sort_values(ascending = False).head(5)\n",
    "plt.bar(Highestsubcategory.index,Highestsubcategory, alpha = 0.4, color='purple')\n",
    "plt.title('Profit by Sub Category')\n",
    "\n",
    "# Show the plot\n",
    "plt.show() "
   ]
  },
  {
   "cell_type": "code",
   "execution_count": 42,
   "id": "c62b3070",
   "metadata": {},
   "outputs": [
    {
     "data": {
      "text/plain": [
       "<matplotlib.axes._subplots.AxesSubplot at 0x15df9f186d8>"
      ]
     },
     "execution_count": 42,
     "metadata": {},
     "output_type": "execute_result"
    },
    {
     "data": {
      "image/png": "[encoded data removed]",
      "text/plain": [
       "<Figure size 500x500 with 1 Axes>"
      ]
     },
     "metadata": {},
     "output_type": "display_data"
    }
   ],
   "source": [
    "new_sales_data_na[\"Product\"].value_counts().head(10).sort_values(ascending = True).plot(kind=\"barh\", figsize = (5,5))"
   ]
  },
  {
   "cell_type": "code",
   "execution_count": 43,
   "id": "0ef608bb",
   "metadata": {},
   "outputs": [
    {
     "data": {
      "text/plain": [
       "<matplotlib.axes._subplots.AxesSubplot at 0x15df81edfd0>"
      ]
     },
     "execution_count": 43,
     "metadata": {},
     "output_type": "execute_result"
    },
    {
     "data": {
      "image/png": "[encoded data removed]",
      "text/plain": [
       "<Figure size 500x500 with 1 Axes>"
      ]
     },
     "metadata": {},
     "output_type": "display_data"
    }
   ],
   "source": [
    "top_bikes = new_sales_data_na.loc[new_sales_data_na[\"Product_Category\"] == \"Bikes\", \"Product\"].value_counts().head(10).sort_values(ascending = True)\n",
    "top_bikes\n",
    "top_bikes.plot(kind=\"barh\", figsize=(5,5), color='orange')"
   ]
  },
  {
   "cell_type": "code",
   "execution_count": 44,
   "id": "099e1795",
   "metadata": {},
   "outputs": [
    {
     "data": {
      "text/html": [
       "<style  type=\"text/css\" >\n",
       "#T_46b5ee1c_d7a1_11ed_bc45_d8f3bc8167d6row0_col0,#T_46b5ee1c_d7a1_11ed_bc45_d8f3bc8167d6row1_col1,#T_46b5ee1c_d7a1_11ed_bc45_d8f3bc8167d6row2_col2,#T_46b5ee1c_d7a1_11ed_bc45_d8f3bc8167d6row3_col3,#T_46b5ee1c_d7a1_11ed_bc45_d8f3bc8167d6row3_col4,#T_46b5ee1c_d7a1_11ed_bc45_d8f3bc8167d6row4_col3,#T_46b5ee1c_d7a1_11ed_bc45_d8f3bc8167d6row4_col4,#T_46b5ee1c_d7a1_11ed_bc45_d8f3bc8167d6row5_col5,#T_46b5ee1c_d7a1_11ed_bc45_d8f3bc8167d6row6_col6,#T_46b5ee1c_d7a1_11ed_bc45_d8f3bc8167d6row7_col7{\n",
       "            background-color:  #b40426;\n",
       "            color:  #f1f1f1;\n",
       "        }#T_46b5ee1c_d7a1_11ed_bc45_d8f3bc8167d6row0_col1,#T_46b5ee1c_d7a1_11ed_bc45_d8f3bc8167d6row0_col5{\n",
       "            background-color:  #4a63d3;\n",
       "            color:  #f1f1f1;\n",
       "        }#T_46b5ee1c_d7a1_11ed_bc45_d8f3bc8167d6row0_col2{\n",
       "            background-color:  #c3d5f4;\n",
       "            color:  #000000;\n",
       "        }#T_46b5ee1c_d7a1_11ed_bc45_d8f3bc8167d6row0_col3{\n",
       "            background-color:  #799cf8;\n",
       "            color:  #000000;\n",
       "        }#T_46b5ee1c_d7a1_11ed_bc45_d8f3bc8167d6row0_col4,#T_46b5ee1c_d7a1_11ed_bc45_d8f3bc8167d6row1_col5{\n",
       "            background-color:  #7a9df8;\n",
       "            color:  #000000;\n",
       "        }#T_46b5ee1c_d7a1_11ed_bc45_d8f3bc8167d6row0_col6{\n",
       "            background-color:  #5673e0;\n",
       "            color:  #000000;\n",
       "        }#T_46b5ee1c_d7a1_11ed_bc45_d8f3bc8167d6row0_col7{\n",
       "            background-color:  #516ddb;\n",
       "            color:  #000000;\n",
       "        }#T_46b5ee1c_d7a1_11ed_bc45_d8f3bc8167d6row1_col0{\n",
       "            background-color:  #7b9ff9;\n",
       "            color:  #000000;\n",
       "        }#T_46b5ee1c_d7a1_11ed_bc45_d8f3bc8167d6row1_col2{\n",
       "            background-color:  #afcafc;\n",
       "            color:  #000000;\n",
       "        }#T_46b5ee1c_d7a1_11ed_bc45_d8f3bc8167d6row1_col3,#T_46b5ee1c_d7a1_11ed_bc45_d8f3bc8167d6row1_col4{\n",
       "            background-color:  #a6c4fe;\n",
       "            color:  #000000;\n",
       "        }#T_46b5ee1c_d7a1_11ed_bc45_d8f3bc8167d6row1_col6{\n",
       "            background-color:  #88abfd;\n",
       "            color:  #000000;\n",
       "        }#T_46b5ee1c_d7a1_11ed_bc45_d8f3bc8167d6row1_col7{\n",
       "            background-color:  #82a6fb;\n",
       "            color:  #000000;\n",
       "        }#T_46b5ee1c_d7a1_11ed_bc45_d8f3bc8167d6row2_col0{\n",
       "            background-color:  #92b4fe;\n",
       "            color:  #000000;\n",
       "        }#T_46b5ee1c_d7a1_11ed_bc45_d8f3bc8167d6row2_col1{\n",
       "            background-color:  #455cce;\n",
       "            color:  #f1f1f1;\n",
       "        }#T_46b5ee1c_d7a1_11ed_bc45_d8f3bc8167d6row2_col3,#T_46b5ee1c_d7a1_11ed_bc45_d8f3bc8167d6row2_col4,#T_46b5ee1c_d7a1_11ed_bc45_d8f3bc8167d6row2_col5,#T_46b5ee1c_d7a1_11ed_bc45_d8f3bc8167d6row2_col6,#T_46b5ee1c_d7a1_11ed_bc45_d8f3bc8167d6row2_col7,#T_46b5ee1c_d7a1_11ed_bc45_d8f3bc8167d6row3_col0,#T_46b5ee1c_d7a1_11ed_bc45_d8f3bc8167d6row3_col1,#T_46b5ee1c_d7a1_11ed_bc45_d8f3bc8167d6row3_col2,#T_46b5ee1c_d7a1_11ed_bc45_d8f3bc8167d6row4_col0,#T_46b5ee1c_d7a1_11ed_bc45_d8f3bc8167d6row4_col1,#T_46b5ee1c_d7a1_11ed_bc45_d8f3bc8167d6row4_col2,#T_46b5ee1c_d7a1_11ed_bc45_d8f3bc8167d6row6_col0{\n",
       "            background-color:  #3b4cc0;\n",
       "            color:  #f1f1f1;\n",
       "        }#T_46b5ee1c_d7a1_11ed_bc45_d8f3bc8167d6row3_col5{\n",
       "            background-color:  #e9785d;\n",
       "            color:  #000000;\n",
       "        }#T_46b5ee1c_d7a1_11ed_bc45_d8f3bc8167d6row3_col6{\n",
       "            background-color:  #df634e;\n",
       "            color:  #000000;\n",
       "        }#T_46b5ee1c_d7a1_11ed_bc45_d8f3bc8167d6row3_col7,#T_46b5ee1c_d7a1_11ed_bc45_d8f3bc8167d6row5_col3{\n",
       "            background-color:  #e26952;\n",
       "            color:  #000000;\n",
       "        }#T_46b5ee1c_d7a1_11ed_bc45_d8f3bc8167d6row4_col5{\n",
       "            background-color:  #e7745b;\n",
       "            color:  #000000;\n",
       "        }#T_46b5ee1c_d7a1_11ed_bc45_d8f3bc8167d6row4_col6{\n",
       "            background-color:  #e0654f;\n",
       "            color:  #000000;\n",
       "        }#T_46b5ee1c_d7a1_11ed_bc45_d8f3bc8167d6row4_col7,#T_46b5ee1c_d7a1_11ed_bc45_d8f3bc8167d6row5_col4{\n",
       "            background-color:  #e16751;\n",
       "            color:  #000000;\n",
       "        }#T_46b5ee1c_d7a1_11ed_bc45_d8f3bc8167d6row5_col0{\n",
       "            background-color:  #3f53c6;\n",
       "            color:  #f1f1f1;\n",
       "        }#T_46b5ee1c_d7a1_11ed_bc45_d8f3bc8167d6row5_col1{\n",
       "            background-color:  #3e51c5;\n",
       "            color:  #f1f1f1;\n",
       "        }#T_46b5ee1c_d7a1_11ed_bc45_d8f3bc8167d6row5_col2{\n",
       "            background-color:  #6f92f3;\n",
       "            color:  #000000;\n",
       "        }#T_46b5ee1c_d7a1_11ed_bc45_d8f3bc8167d6row5_col6{\n",
       "            background-color:  #be242e;\n",
       "            color:  #f1f1f1;\n",
       "        }#T_46b5ee1c_d7a1_11ed_bc45_d8f3bc8167d6row5_col7,#T_46b5ee1c_d7a1_11ed_bc45_d8f3bc8167d6row7_col5{\n",
       "            background-color:  #b70d28;\n",
       "            color:  #f1f1f1;\n",
       "        }#T_46b5ee1c_d7a1_11ed_bc45_d8f3bc8167d6row6_col1,#T_46b5ee1c_d7a1_11ed_bc45_d8f3bc8167d6row7_col1{\n",
       "            background-color:  #3c4ec2;\n",
       "            color:  #f1f1f1;\n",
       "        }#T_46b5ee1c_d7a1_11ed_bc45_d8f3bc8167d6row6_col2{\n",
       "            background-color:  #5f7fe8;\n",
       "            color:  #000000;\n",
       "        }#T_46b5ee1c_d7a1_11ed_bc45_d8f3bc8167d6row6_col3{\n",
       "            background-color:  #da5a49;\n",
       "            color:  #000000;\n",
       "        }#T_46b5ee1c_d7a1_11ed_bc45_d8f3bc8167d6row6_col4{\n",
       "            background-color:  #dc5d4a;\n",
       "            color:  #000000;\n",
       "        }#T_46b5ee1c_d7a1_11ed_bc45_d8f3bc8167d6row6_col5{\n",
       "            background-color:  #c0282f;\n",
       "            color:  #f1f1f1;\n",
       "        }#T_46b5ee1c_d7a1_11ed_bc45_d8f3bc8167d6row6_col7,#T_46b5ee1c_d7a1_11ed_bc45_d8f3bc8167d6row7_col6{\n",
       "            background-color:  #b50927;\n",
       "            color:  #f1f1f1;\n",
       "        }#T_46b5ee1c_d7a1_11ed_bc45_d8f3bc8167d6row7_col0{\n",
       "            background-color:  #3d50c3;\n",
       "            color:  #f1f1f1;\n",
       "        }#T_46b5ee1c_d7a1_11ed_bc45_d8f3bc8167d6row7_col2{\n",
       "            background-color:  #6485ec;\n",
       "            color:  #000000;\n",
       "        }#T_46b5ee1c_d7a1_11ed_bc45_d8f3bc8167d6row7_col3,#T_46b5ee1c_d7a1_11ed_bc45_d8f3bc8167d6row7_col4{\n",
       "            background-color:  #dd5f4b;\n",
       "            color:  #000000;\n",
       "        }</style><table id=\"T_46b5ee1c_d7a1_11ed_bc45_d8f3bc8167d6\" ><thead>    <tr>        <th class=\"blank level0\" ></th>        <th class=\"col_heading level0 col0\" >Year</th>        <th class=\"col_heading level0 col1\" >Customer_Age</th>        <th class=\"col_heading level0 col2\" >Order_Quantity</th>        <th class=\"col_heading level0 col3\" >Unit_Cost</th>        <th class=\"col_heading level0 col4\" >Unit_Price</th>        <th class=\"col_heading level0 col5\" >Profit</th>        <th class=\"col_heading level0 col6\" >Cost</th>        <th class=\"col_heading level0 col7\" >Revenue</th>    </tr></thead><tbody>\n",
       "                <tr>\n",
       "                        <th id=\"T_46b5ee1c_d7a1_11ed_bc45_d8f3bc8167d6level0_row0\" class=\"row_heading level0 row0\" >Year</th>\n",
       "                        <td id=\"T_46b5ee1c_d7a1_11ed_bc45_d8f3bc8167d6row0_col0\" class=\"data row0 col0\" >1.000000</td>\n",
       "                        <td id=\"T_46b5ee1c_d7a1_11ed_bc45_d8f3bc8167d6row0_col1\" class=\"data row0 col1\" >0.037111</td>\n",
       "                        <td id=\"T_46b5ee1c_d7a1_11ed_bc45_d8f3bc8167d6row0_col2\" class=\"data row0 col2\" >0.111266</td>\n",
       "                        <td id=\"T_46b5ee1c_d7a1_11ed_bc45_d8f3bc8167d6row0_col3\" class=\"data row0 col3\" >-0.207043</td>\n",
       "                        <td id=\"T_46b5ee1c_d7a1_11ed_bc45_d8f3bc8167d6row0_col4\" class=\"data row0 col4\" >-0.203404</td>\n",
       "                        <td id=\"T_46b5ee1c_d7a1_11ed_bc45_d8f3bc8167d6row0_col5\" class=\"data row0 col5\" >-0.184933</td>\n",
       "                        <td id=\"T_46b5ee1c_d7a1_11ed_bc45_d8f3bc8167d6row0_col6\" class=\"data row0 col6\" >-0.202788</td>\n",
       "                        <td id=\"T_46b5ee1c_d7a1_11ed_bc45_d8f3bc8167d6row0_col7\" class=\"data row0 col7\" >-0.197513</td>\n",
       "            </tr>\n",
       "            <tr>\n",
       "                        <th id=\"T_46b5ee1c_d7a1_11ed_bc45_d8f3bc8167d6level0_row1\" class=\"row_heading level0 row1\" >Customer_Age</th>\n",
       "                        <td id=\"T_46b5ee1c_d7a1_11ed_bc45_d8f3bc8167d6row1_col0\" class=\"data row1 col0\" >0.037111</td>\n",
       "                        <td id=\"T_46b5ee1c_d7a1_11ed_bc45_d8f3bc8167d6row1_col1\" class=\"data row1 col1\" >1.000000</td>\n",
       "                        <td id=\"T_46b5ee1c_d7a1_11ed_bc45_d8f3bc8167d6row1_col2\" class=\"data row1 col2\" >0.023493</td>\n",
       "                        <td id=\"T_46b5ee1c_d7a1_11ed_bc45_d8f3bc8167d6row1_col3\" class=\"data row1 col3\" >-0.015986</td>\n",
       "                        <td id=\"T_46b5ee1c_d7a1_11ed_bc45_d8f3bc8167d6row1_col4\" class=\"data row1 col4\" >-0.014978</td>\n",
       "                        <td id=\"T_46b5ee1c_d7a1_11ed_bc45_d8f3bc8167d6row1_col5\" class=\"data row1 col5\" >-0.003165</td>\n",
       "                        <td id=\"T_46b5ee1c_d7a1_11ed_bc45_d8f3bc8167d6row1_col6\" class=\"data row1 col6\" >-0.011832</td>\n",
       "                        <td id=\"T_46b5ee1c_d7a1_11ed_bc45_d8f3bc8167d6row1_col7\" class=\"data row1 col7\" >-0.008423</td>\n",
       "            </tr>\n",
       "            <tr>\n",
       "                        <th id=\"T_46b5ee1c_d7a1_11ed_bc45_d8f3bc8167d6level0_row2\" class=\"row_heading level0 row2\" >Order_Quantity</th>\n",
       "                        <td id=\"T_46b5ee1c_d7a1_11ed_bc45_d8f3bc8167d6row2_col0\" class=\"data row2 col0\" >0.111266</td>\n",
       "                        <td id=\"T_46b5ee1c_d7a1_11ed_bc45_d8f3bc8167d6row2_col1\" class=\"data row2 col1\" >0.023493</td>\n",
       "                        <td id=\"T_46b5ee1c_d7a1_11ed_bc45_d8f3bc8167d6row2_col2\" class=\"data row2 col2\" >1.000000</td>\n",
       "                        <td id=\"T_46b5ee1c_d7a1_11ed_bc45_d8f3bc8167d6row2_col3\" class=\"data row2 col3\" >-0.499868</td>\n",
       "                        <td id=\"T_46b5ee1c_d7a1_11ed_bc45_d8f3bc8167d6row2_col4\" class=\"data row2 col4\" >-0.499928</td>\n",
       "                        <td id=\"T_46b5ee1c_d7a1_11ed_bc45_d8f3bc8167d6row2_col5\" class=\"data row2 col5\" >-0.249350</td>\n",
       "                        <td id=\"T_46b5ee1c_d7a1_11ed_bc45_d8f3bc8167d6row2_col6\" class=\"data row2 col6\" >-0.322639</td>\n",
       "                        <td id=\"T_46b5ee1c_d7a1_11ed_bc45_d8f3bc8167d6row2_col7\" class=\"data row2 col7\" >-0.295992</td>\n",
       "            </tr>\n",
       "            <tr>\n",
       "                        <th id=\"T_46b5ee1c_d7a1_11ed_bc45_d8f3bc8167d6level0_row3\" class=\"row_heading level0 row3\" >Unit_Cost</th>\n",
       "                        <td id=\"T_46b5ee1c_d7a1_11ed_bc45_d8f3bc8167d6row3_col0\" class=\"data row3 col0\" >-0.207043</td>\n",
       "                        <td id=\"T_46b5ee1c_d7a1_11ed_bc45_d8f3bc8167d6row3_col1\" class=\"data row3 col1\" >-0.015986</td>\n",
       "                        <td id=\"T_46b5ee1c_d7a1_11ed_bc45_d8f3bc8167d6row3_col2\" class=\"data row3 col2\" >-0.499868</td>\n",
       "                        <td id=\"T_46b5ee1c_d7a1_11ed_bc45_d8f3bc8167d6row3_col3\" class=\"data row3 col3\" >1.000000</td>\n",
       "                        <td id=\"T_46b5ee1c_d7a1_11ed_bc45_d8f3bc8167d6row3_col4\" class=\"data row3 col4\" >0.997916</td>\n",
       "                        <td id=\"T_46b5ee1c_d7a1_11ed_bc45_d8f3bc8167d6row3_col5\" class=\"data row3 col5\" >0.783774</td>\n",
       "                        <td id=\"T_46b5ee1c_d7a1_11ed_bc45_d8f3bc8167d6row3_col6\" class=\"data row3 col6\" >0.826813</td>\n",
       "                        <td id=\"T_46b5ee1c_d7a1_11ed_bc45_d8f3bc8167d6row3_col7\" class=\"data row3 col7\" >0.817408</td>\n",
       "            </tr>\n",
       "            <tr>\n",
       "                        <th id=\"T_46b5ee1c_d7a1_11ed_bc45_d8f3bc8167d6level0_row4\" class=\"row_heading level0 row4\" >Unit_Price</th>\n",
       "                        <td id=\"T_46b5ee1c_d7a1_11ed_bc45_d8f3bc8167d6row4_col0\" class=\"data row4 col0\" >-0.203404</td>\n",
       "                        <td id=\"T_46b5ee1c_d7a1_11ed_bc45_d8f3bc8167d6row4_col1\" class=\"data row4 col1\" >-0.014978</td>\n",
       "                        <td id=\"T_46b5ee1c_d7a1_11ed_bc45_d8f3bc8167d6row4_col2\" class=\"data row4 col2\" >-0.499928</td>\n",
       "                        <td id=\"T_46b5ee1c_d7a1_11ed_bc45_d8f3bc8167d6row4_col3\" class=\"data row4 col3\" >0.997916</td>\n",
       "                        <td id=\"T_46b5ee1c_d7a1_11ed_bc45_d8f3bc8167d6row4_col4\" class=\"data row4 col4\" >1.000000</td>\n",
       "                        <td id=\"T_46b5ee1c_d7a1_11ed_bc45_d8f3bc8167d6row4_col5\" class=\"data row4 col5\" >0.790965</td>\n",
       "                        <td id=\"T_46b5ee1c_d7a1_11ed_bc45_d8f3bc8167d6row4_col6\" class=\"data row4 col6\" >0.823451</td>\n",
       "                        <td id=\"T_46b5ee1c_d7a1_11ed_bc45_d8f3bc8167d6row4_col7\" class=\"data row4 col7\" >0.818305</td>\n",
       "            </tr>\n",
       "            <tr>\n",
       "                        <th id=\"T_46b5ee1c_d7a1_11ed_bc45_d8f3bc8167d6level0_row5\" class=\"row_heading level0 row5\" >Profit</th>\n",
       "                        <td id=\"T_46b5ee1c_d7a1_11ed_bc45_d8f3bc8167d6row5_col0\" class=\"data row5 col0\" >-0.184933</td>\n",
       "                        <td id=\"T_46b5ee1c_d7a1_11ed_bc45_d8f3bc8167d6row5_col1\" class=\"data row5 col1\" >-0.003165</td>\n",
       "                        <td id=\"T_46b5ee1c_d7a1_11ed_bc45_d8f3bc8167d6row5_col2\" class=\"data row5 col2\" >-0.249350</td>\n",
       "                        <td id=\"T_46b5ee1c_d7a1_11ed_bc45_d8f3bc8167d6row5_col3\" class=\"data row5 col3\" >0.783774</td>\n",
       "                        <td id=\"T_46b5ee1c_d7a1_11ed_bc45_d8f3bc8167d6row5_col4\" class=\"data row5 col4\" >0.790965</td>\n",
       "                        <td id=\"T_46b5ee1c_d7a1_11ed_bc45_d8f3bc8167d6row5_col5\" class=\"data row5 col5\" >1.000000</td>\n",
       "                        <td id=\"T_46b5ee1c_d7a1_11ed_bc45_d8f3bc8167d6row5_col6\" class=\"data row5 col6\" >0.959865</td>\n",
       "                        <td id=\"T_46b5ee1c_d7a1_11ed_bc45_d8f3bc8167d6row5_col7\" class=\"data row5 col7\" >0.985592</td>\n",
       "            </tr>\n",
       "            <tr>\n",
       "                        <th id=\"T_46b5ee1c_d7a1_11ed_bc45_d8f3bc8167d6level0_row6\" class=\"row_heading level0 row6\" >Cost</th>\n",
       "                        <td id=\"T_46b5ee1c_d7a1_11ed_bc45_d8f3bc8167d6row6_col0\" class=\"data row6 col0\" >-0.202788</td>\n",
       "                        <td id=\"T_46b5ee1c_d7a1_11ed_bc45_d8f3bc8167d6row6_col1\" class=\"data row6 col1\" >-0.011832</td>\n",
       "                        <td id=\"T_46b5ee1c_d7a1_11ed_bc45_d8f3bc8167d6row6_col2\" class=\"data row6 col2\" >-0.322639</td>\n",
       "                        <td id=\"T_46b5ee1c_d7a1_11ed_bc45_d8f3bc8167d6row6_col3\" class=\"data row6 col3\" >0.826813</td>\n",
       "                        <td id=\"T_46b5ee1c_d7a1_11ed_bc45_d8f3bc8167d6row6_col4\" class=\"data row6 col4\" >0.823451</td>\n",
       "                        <td id=\"T_46b5ee1c_d7a1_11ed_bc45_d8f3bc8167d6row6_col5\" class=\"data row6 col5\" >0.959865</td>\n",
       "                        <td id=\"T_46b5ee1c_d7a1_11ed_bc45_d8f3bc8167d6row6_col6\" class=\"data row6 col6\" >1.000000</td>\n",
       "                        <td id=\"T_46b5ee1c_d7a1_11ed_bc45_d8f3bc8167d6row6_col7\" class=\"data row6 col7\" >0.993473</td>\n",
       "            </tr>\n",
       "            <tr>\n",
       "                        <th id=\"T_46b5ee1c_d7a1_11ed_bc45_d8f3bc8167d6level0_row7\" class=\"row_heading level0 row7\" >Revenue</th>\n",
       "                        <td id=\"T_46b5ee1c_d7a1_11ed_bc45_d8f3bc8167d6row7_col0\" class=\"data row7 col0\" >-0.197513</td>\n",
       "                        <td id=\"T_46b5ee1c_d7a1_11ed_bc45_d8f3bc8167d6row7_col1\" class=\"data row7 col1\" >-0.008423</td>\n",
       "                        <td id=\"T_46b5ee1c_d7a1_11ed_bc45_d8f3bc8167d6row7_col2\" class=\"data row7 col2\" >-0.295992</td>\n",
       "                        <td id=\"T_46b5ee1c_d7a1_11ed_bc45_d8f3bc8167d6row7_col3\" class=\"data row7 col3\" >0.817408</td>\n",
       "                        <td id=\"T_46b5ee1c_d7a1_11ed_bc45_d8f3bc8167d6row7_col4\" class=\"data row7 col4\" >0.818305</td>\n",
       "                        <td id=\"T_46b5ee1c_d7a1_11ed_bc45_d8f3bc8167d6row7_col5\" class=\"data row7 col5\" >0.985592</td>\n",
       "                        <td id=\"T_46b5ee1c_d7a1_11ed_bc45_d8f3bc8167d6row7_col6\" class=\"data row7 col6\" >0.993473</td>\n",
       "                        <td id=\"T_46b5ee1c_d7a1_11ed_bc45_d8f3bc8167d6row7_col7\" class=\"data row7 col7\" >1.000000</td>\n",
       "            </tr>\n",
       "    </tbody></table>"
      ],
      "text/plain": [
       "<pandas.io.formats.style.Styler at 0x15df9fe2898>"
      ]
     },
     "execution_count": 44,
     "metadata": {},
     "output_type": "execute_result"
    }
   ],
   "source": [
    "cor = new_sales_data_na.corr().style.background_gradient(cmap='coolwarm')\n",
    "cor"
   ]
  },
  {
   "cell_type": "code",
   "execution_count": 45,
   "id": "dd0056e2",
   "metadata": {},
   "outputs": [
    {
     "data": {
      "text/plain": [
       "<matplotlib.axes._subplots.AxesSubplot at 0x15dfa4d7ef0>"
      ]
     },
     "execution_count": 45,
     "metadata": {},
     "output_type": "execute_result"
    },
    {
     "data": {
      "image/png": "[encoded data removed]",
      "text/plain": [
       "<Figure size 600x500 with 1 Axes>"
      ]
     },
     "metadata": {},
     "output_type": "display_data"
    }
   ],
   "source": [
    "# Relationship between Unit Cost and Unit Price\n",
    "new_sales_data_na.plot(x = \"Unit_Cost\", y = \"Unit_Price\", figsize = (6,5), kind = \"scatter\")"
   ]
  },
  {
   "cell_type": "code",
   "execution_count": 46,
   "id": "bb7ed8f4",
   "metadata": {},
   "outputs": [
    {
     "data": {
      "text/plain": [
       "<matplotlib.axes._subplots.AxesSubplot at 0x15dfa06f3c8>"
      ]
     },
     "execution_count": 46,
     "metadata": {},
     "output_type": "execute_result"
    },
    {
     "data": {
      "image/png": "[encoded data removed]",
      "text/plain": [
       "<Figure size 600x500 with 1 Axes>"
      ]
     },
     "metadata": {},
     "output_type": "display_data"
    }
   ],
   "source": [
    "# Relationship between order quantity and profit\n",
    "new_sales_data_na.plot(x = \"Order_Quantity\", y = \"Profit\", kind = \"scatter\", figsize = (6,5))"
   ]
  },
  {
   "cell_type": "code",
   "execution_count": 47,
   "id": "4e4f0326",
   "metadata": {},
   "outputs": [
    {
     "data": {
      "text/plain": [
       "<matplotlib.axes._subplots.AxesSubplot at 0x15df8145da0>"
      ]
     },
     "execution_count": 47,
     "metadata": {},
     "output_type": "execute_result"
    },
    {
     "data": {
      "image/png": "[encoded data removed]",
      "text/plain": [
       "<Figure size 600x500 with 1 Axes>"
      ]
     },
     "metadata": {},
     "output_type": "display_data"
    }
   ],
   "source": [
    "# Relationship between Profit and Country\n",
    "new_sales_data_na.plot(x = \"Country\", y = \"Profit\", kind = \"scatter\", figsize = (6,5))"
   ]
  },
  {
   "cell_type": "code",
   "execution_count": 48,
   "id": "cdea6ef3",
   "metadata": {},
   "outputs": [
    {
     "data": {
      "text/plain": [
       "<matplotlib.axes._subplots.AxesSubplot at 0x15df7769e48>"
      ]
     },
     "execution_count": 48,
     "metadata": {},
     "output_type": "execute_result"
    },
    {
     "data": {
      "image/png": "[encoded data removed]",
      "text/plain": [
       "<Figure size 600x500 with 1 Axes>"
      ]
     },
     "metadata": {},
     "output_type": "display_data"
    }
   ],
   "source": [
    "# Relationship between Revenue and Cost\n",
    "new_sales_data_na.plot(x = \"Revenue\", y = \"Cost\", kind = \"scatter\", figsize = (6,5))"
   ]
  },
  {
   "cell_type": "code",
   "execution_count": 49,
   "id": "6eaa65b3",
   "metadata": {},
   "outputs": [
    {
     "data": {
      "text/plain": [
       "<matplotlib.axes._subplots.AxesSubplot at 0x15df7582b38>"
      ]
     },
     "execution_count": 49,
     "metadata": {},
     "output_type": "execute_result"
    },
    {
     "data": {
      "image/png": "[encoded data removed]",
      "text/plain": [
       "<Figure size 600x500 with 1 Axes>"
      ]
     },
     "metadata": {},
     "output_type": "display_data"
    }
   ],
   "source": [
    "# Relationship between Profit and Cost\n",
    "new_sales_data_na.plot(x = \"Profit\", y = \"Cost\", kind = \"scatter\", figsize = (6,5))"
   ]
  },
  {
   "cell_type": "code",
   "execution_count": 50,
   "id": "28c2ed03",
   "metadata": {},
   "outputs": [
    {
     "data": {
      "text/plain": [
       "<matplotlib.axes._subplots.AxesSubplot at 0x15df7425358>"
      ]
     },
     "execution_count": 50,
     "metadata": {},
     "output_type": "execute_result"
    },
    {
     "data": {
      "image/png": "[encoded data removed]",
      "text/plain": [
       "<Figure size 600x500 with 1 Axes>"
      ]
     },
     "metadata": {},
     "output_type": "display_data"
    }
   ],
   "source": [
    "# Relationship between Profit and Revenue\n",
    "new_sales_data_na.plot(x = \"Profit\", y = \"Revenue\", kind = \"scatter\", figsize = (6,5))"
   ]
  },
  {
   "cell_type": "code",
   "execution_count": null,
   "id": "fe6df8fa",
   "metadata": {},
   "outputs": [],
   "source": []
  }
 ],
 "metadata": {
  "kernelspec": {
   "display_name": "Python 3 (ipykernel)",
   "language": "python",
   "name": "python3"
  },
  "language_info": {
   "codemirror_mode": {
    "name": "ipython",
    "version": 3
   },
   "file_extension": ".py",
   "mimetype": "text/x-python",
   "name": "python",
   "nbconvert_exporter": "python",
   "pygments_lexer": "ipython3",
   "version": "3.7.0"
  }
 },
 "nbformat": 4,
 "nbformat_minor": 5
}
